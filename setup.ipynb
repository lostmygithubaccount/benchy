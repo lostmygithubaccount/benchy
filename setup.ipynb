{
 "cells": [
  {
   "cell_type": "code",
   "execution_count": 5,
   "metadata": {},
   "outputs": [
    {
     "name": "stdout",
     "output_type": "stream",
     "text": [
      "{\n",
      "  \"environmentName\": \"AzureCloud\",\n",
      "  \"id\": \"6560575d-fa06-4e7d-95fb-f962e74efd7a\",\n",
      "  \"isDefault\": true,\n",
      "  \"name\": \"Data4ML PM\",\n",
      "  \"state\": \"Enabled\",\n",
      "  \"tenantId\": \"72f988bf-86f1-41af-91ab-2d7cd011db47\",\n",
      "  \"user\": {\n",
      "    \"name\": \"copeters@microsoft.com\",\n",
      "    \"type\": \"user\"\n",
      "  }\n",
      "}\n",
      "\u001b[0m"
     ]
    }
   ],
   "source": [
    "!az account show"
   ]
  },
  {
   "cell_type": "code",
   "execution_count": 7,
   "metadata": {},
   "outputs": [
    {
     "name": "stdout",
     "output_type": "stream",
     "text": [
      "{\n",
      "  \"id\": \"/subscriptions/6560575d-fa06-4e7d-95fb-f962e74efd7a/resourceGroups/copeters_benchmarking\",\n",
      "  \"location\": \"northcentralus\",\n",
      "  \"managedBy\": null,\n",
      "  \"name\": \"copeters_benchmarking\",\n",
      "  \"properties\": {\n",
      "    \"provisioningState\": \"Succeeded\"\n",
      "  },\n",
      "  \"tags\": null,\n",
      "  \"type\": \"Microsoft.Resources/resourceGroups\"\n",
      "}\n",
      "\u001b[0m"
     ]
    }
   ],
   "source": [
    "!az group create -n copeters_benchmarking -l northcentralus"
   ]
  },
  {
   "cell_type": "code",
   "execution_count": 10,
   "metadata": {},
   "outputs": [
    {
     "name": "stdout",
     "output_type": "stream",
     "text": [
      "Deploying StorageAccount with name benchystorage291a40d4020.\n",
      "Deploying KeyVault with name benchykeyvault60ac017757.\n",
      "Deploying AppInsights with name benchyinsightsd116c99eb5.\n",
      "Deployed AppInsights with name benchyinsightsd116c99eb5. Took 9.85 seconds.\n",
      "Deployed KeyVault with name benchykeyvault60ac017757. Took 28.91 seconds.\n",
      "Deployed StorageAccount with name benchystorage291a40d4020. Took 29.39 seconds.\n",
      "Deploying Workspace with name benchy.\n",
      "Deployed Workspace with name benchy. Took 39.83 seconds.\n",
      "{\n",
      "  \"applicationInsights\": \"/subscriptions/6560575d-fa06-4e7d-95fb-f962e74efd7a/resourcegroups/copeters_benchmarking/providers/microsoft.insights/components/benchyinsightsd116c99eb5\",\n",
      "  \"creationTime\": \"2019-12-21T17:16:15.0338998+00:00\",\n",
      "  \"description\": \"\",\n",
      "  \"friendlyName\": \"benchy\",\n",
      "  \"id\": \"/subscriptions/6560575d-fa06-4e7d-95fb-f962e74efd7a/resourceGroups/copeters_benchmarking/providers/Microsoft.MachineLearningServices/workspaces/benchy\",\n",
      "  \"identityPrincipalId\": \"5681c86e-b88a-4308-b723-1fbcc4e8feea\",\n",
      "  \"identityTenantId\": \"72f988bf-86f1-41af-91ab-2d7cd011db47\",\n",
      "  \"identityType\": \"SystemAssigned\",\n",
      "  \"keyVault\": \"/subscriptions/6560575d-fa06-4e7d-95fb-f962e74efd7a/resourcegroups/copeters_benchmarking/providers/microsoft.keyvault/vaults/benchykeyvault60ac017757\",\n",
      "  \"location\": \"northcentralus\",\n",
      "  \"name\": \"benchy\",\n",
      "  \"resourceGroup\": \"copeters_benchmarking\",\n",
      "  \"sku\": \"Enterprise\",\n",
      "  \"storageAccount\": \"/subscriptions/6560575d-fa06-4e7d-95fb-f962e74efd7a/resourcegroups/copeters_benchmarking/providers/microsoft.storage/storageaccounts/benchystorage291a40d4020\",\n",
      "  \"type\": \"Microsoft.MachineLearningServices/workspaces\",\n",
      "  \"workspaceid\": \"9d8b0c98-7040-4624-9305-47229118ca37\"\n",
      "}\n",
      "\u001b[0m"
     ]
    }
   ],
   "source": [
    "!az ml workspace create -w benchy -g copeters_benchmarking -l northcentralus --sku enterprise "
   ]
  },
  {
   "cell_type": "code",
   "execution_count": 15,
   "metadata": {},
   "outputs": [
    {
     "name": "stdout",
     "output_type": "stream",
     "text": [
      "{\n",
      "  \"applicationInsights\": \"/subscriptions/6560575d-fa06-4e7d-95fb-f962e74efd7a/resourcegroups/copeters_benchmarking/providers/microsoft.insights/components/benchyinsightsd116c99eb5\",\n",
      "  \"creationTime\": \"2019-12-21T17:16:15.0338998+00:00\",\n",
      "  \"description\": \"\",\n",
      "  \"friendlyName\": \"benchy\",\n",
      "  \"id\": \"/subscriptions/6560575d-fa06-4e7d-95fb-f962e74efd7a/resourceGroups/copeters_benchmarking/providers/Microsoft.MachineLearningServices/workspaces/benchy\",\n",
      "  \"identityPrincipalId\": \"5681c86e-b88a-4308-b723-1fbcc4e8feea\",\n",
      "  \"identityTenantId\": \"72f988bf-86f1-41af-91ab-2d7cd011db47\",\n",
      "  \"identityType\": \"SystemAssigned\",\n",
      "  \"keyVault\": \"/subscriptions/6560575d-fa06-4e7d-95fb-f962e74efd7a/resourcegroups/copeters_benchmarking/providers/microsoft.keyvault/vaults/benchykeyvault60ac017757\",\n",
      "  \"location\": \"northcentralus\",\n",
      "  \"name\": \"benchy\",\n",
      "  \"resourceGroup\": \"copeters_benchmarking\",\n",
      "  \"sku\": \"Enterprise\",\n",
      "  \"storageAccount\": \"/subscriptions/6560575d-fa06-4e7d-95fb-f962e74efd7a/resourcegroups/copeters_benchmarking/providers/microsoft.storage/storageaccounts/benchystorage291a40d4020\",\n",
      "  \"type\": \"Microsoft.MachineLearningServices/workspaces\",\n",
      "  \"workspaceid\": \"9d8b0c98-7040-4624-9305-47229118ca37\"\n",
      "}\n",
      "\u001b[0m"
     ]
    }
   ],
   "source": [
    "!az ml workspace show -w benchy -g copeters_benchmarking -t 'config.json'"
   ]
  }
 ],
 "metadata": {
  "kernelspec": {
   "display_name": "Python [conda env:benchy]",
   "language": "python",
   "name": "conda-env-benchy-py"
  },
  "language_info": {
   "codemirror_mode": {
    "name": "ipython",
    "version": 3
   },
   "file_extension": ".py",
   "mimetype": "text/x-python",
   "name": "python",
   "nbconvert_exporter": "python",
   "pygments_lexer": "ipython3",
   "version": "3.7.4"
  }
 },
 "nbformat": 4,
 "nbformat_minor": 4
}
