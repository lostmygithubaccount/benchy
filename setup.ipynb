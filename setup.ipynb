{
 "cells": [
  {
   "cell_type": "code",
   "execution_count": 5,
   "metadata": {},
   "outputs": [
    {
     "name": "stdout",
     "output_type": "stream",
     "text": [
      "{\n",
      "  \"environmentName\": \"AzureCloud\",\n",
      "  \"id\": \"6560575d-fa06-4e7d-95fb-f962e74efd7a\",\n",
      "  \"isDefault\": true,\n",
      "  \"name\": \"Data4ML PM\",\n",
      "  \"state\": \"Enabled\",\n",
      "  \"tenantId\": \"72f988bf-86f1-41af-91ab-2d7cd011db47\",\n",
      "  \"user\": {\n",
      "    \"name\": \"copeters@microsoft.com\",\n",
      "    \"type\": \"user\"\n",
      "  }\n",
      "}\n",
      "\u001b[0m"
     ]
    }
   ],
   "source": [
    "!az account show"
   ]
  },
  {
   "cell_type": "code",
   "execution_count": 7,
   "metadata": {},
   "outputs": [
    {
     "name": "stdout",
     "output_type": "stream",
     "text": [
      "{\n",
      "  \"id\": \"/subscriptions/6560575d-fa06-4e7d-95fb-f962e74efd7a/resourceGroups/copeters_benchmarking\",\n",
      "  \"location\": \"northcentralus\",\n",
      "  \"managedBy\": null,\n",
      "  \"name\": \"copeters_benchmarking\",\n",
      "  \"properties\": {\n",
      "    \"provisioningState\": \"Succeeded\"\n",
      "  },\n",
      "  \"tags\": null,\n",
      "  \"type\": \"Microsoft.Resources/resourceGroups\"\n",
      "}\n",
      "\u001b[0m"
     ]
    }
   ],
   "source": [
    "!az group create -n copeters_benchmarking -l northcentralus"
   ]
  },
  {
   "cell_type": "code",
   "execution_count": 10,
   "metadata": {},
   "outputs": [
    {
     "name": "stdout",
     "output_type": "stream",
     "text": [
      "Deploying StorageAccount with name benchystorage291a40d4020.\n",
      "Deploying KeyVault with name benchykeyvault60ac017757.\n",
      "Deploying AppInsights with name benchyinsightsd116c99eb5.\n",
      "Deployed AppInsights with name benchyinsightsd116c99eb5. Took 9.85 seconds.\n",
      "Deployed KeyVault with name benchykeyvault60ac017757. Took 28.91 seconds.\n",
      "Deployed StorageAccount with name benchystorage291a40d4020. Took 29.39 seconds.\n",
      "Deploying Workspace with name benchy.\n",
      "Deployed Workspace with name benchy. Took 39.83 seconds.\n",
      "{\n",
      "  \"applicationInsights\": \"/subscriptions/6560575d-fa06-4e7d-95fb-f962e74efd7a/resourcegroups/copeters_benchmarking/providers/microsoft.insights/components/benchyinsightsd116c99eb5\",\n",
      "  \"creationTime\": \"2019-12-21T17:16:15.0338998+00:00\",\n",
      "  \"description\": \"\",\n",
      "  \"friendlyName\": \"benchy\",\n",
      "  \"id\": \"/subscriptions/6560575d-fa06-4e7d-95fb-f962e74efd7a/resourceGroups/copeters_benchmarking/providers/Microsoft.MachineLearningServices/workspaces/benchy\",\n",
      "  \"identityPrincipalId\": \"5681c86e-b88a-4308-b723-1fbcc4e8feea\",\n",
      "  \"identityTenantId\": \"72f988bf-86f1-41af-91ab-2d7cd011db47\",\n",
      "  \"identityType\": \"SystemAssigned\",\n",
      "  \"keyVault\": \"/subscriptions/6560575d-fa06-4e7d-95fb-f962e74efd7a/resourcegroups/copeters_benchmarking/providers/microsoft.keyvault/vaults/benchykeyvault60ac017757\",\n",
      "  \"location\": \"northcentralus\",\n",
      "  \"name\": \"benchy\",\n",
      "  \"resourceGroup\": \"copeters_benchmarking\",\n",
      "  \"sku\": \"Enterprise\",\n",
      "  \"storageAccount\": \"/subscriptions/6560575d-fa06-4e7d-95fb-f962e74efd7a/resourcegroups/copeters_benchmarking/providers/microsoft.storage/storageaccounts/benchystorage291a40d4020\",\n",
      "  \"type\": \"Microsoft.MachineLearningServices/workspaces\",\n",
      "  \"workspaceid\": \"9d8b0c98-7040-4624-9305-47229118ca37\"\n",
      "}\n",
      "\u001b[0m"
     ]
    }
   ],
   "source": [
    "!az ml workspace create -w benchy -g copeters_benchmarking -l northcentralus --sku enterprise "
   ]
  },
  {
   "cell_type": "code",
   "execution_count": 15,
   "metadata": {},
   "outputs": [
    {
     "name": "stdout",
     "output_type": "stream",
     "text": [
      "{\n",
      "  \"applicationInsights\": \"/subscriptions/6560575d-fa06-4e7d-95fb-f962e74efd7a/resourcegroups/copeters_benchmarking/providers/microsoft.insights/components/benchyinsightsd116c99eb5\",\n",
      "  \"creationTime\": \"2019-12-21T17:16:15.0338998+00:00\",\n",
      "  \"description\": \"\",\n",
      "  \"friendlyName\": \"benchy\",\n",
      "  \"id\": \"/subscriptions/6560575d-fa06-4e7d-95fb-f962e74efd7a/resourceGroups/copeters_benchmarking/providers/Microsoft.MachineLearningServices/workspaces/benchy\",\n",
      "  \"identityPrincipalId\": \"5681c86e-b88a-4308-b723-1fbcc4e8feea\",\n",
      "  \"identityTenantId\": \"72f988bf-86f1-41af-91ab-2d7cd011db47\",\n",
      "  \"identityType\": \"SystemAssigned\",\n",
      "  \"keyVault\": \"/subscriptions/6560575d-fa06-4e7d-95fb-f962e74efd7a/resourcegroups/copeters_benchmarking/providers/microsoft.keyvault/vaults/benchykeyvault60ac017757\",\n",
      "  \"location\": \"northcentralus\",\n",
      "  \"name\": \"benchy\",\n",
      "  \"resourceGroup\": \"copeters_benchmarking\",\n",
      "  \"sku\": \"Enterprise\",\n",
      "  \"storageAccount\": \"/subscriptions/6560575d-fa06-4e7d-95fb-f962e74efd7a/resourcegroups/copeters_benchmarking/providers/microsoft.storage/storageaccounts/benchystorage291a40d4020\",\n",
      "  \"type\": \"Microsoft.MachineLearningServices/workspaces\",\n",
      "  \"workspaceid\": \"9d8b0c98-7040-4624-9305-47229118ca37\"\n",
      "}\n",
      "\u001b[0m"
     ]
    }
   ],
   "source": [
    "!az ml workspace show -w benchy -g copeters_benchmarking -t 'config.json'"
   ]
  },
  {
   "cell_type": "code",
   "execution_count": null,
   "metadata": {},
   "outputs": [],
   "source": []
  },
  {
   "cell_type": "code",
   "execution_count": 19,
   "metadata": {
    "collapsed": true,
    "jupyter": {
     "outputs_hidden": true
    }
   },
   "outputs": [
    {
     "name": "stdout",
     "output_type": "stream",
     "text": [
      "Collecting azureml-sdk[notebooks]\n",
      "  Using cached https://files.pythonhosted.org/packages/91/f9/62ac095e2134dbc87cff8e0f11b7a9f72fe3fc6a175cdbc9503185161893/azureml_sdk-1.0.79-py3-none-any.whl\n",
      "Collecting azureml-core==1.0.79.* (from azureml-sdk[notebooks])\n",
      "  Using cached https://files.pythonhosted.org/packages/1b/41/2cf26f4afc30a265393adfd734fa9643461a3d36f6180367282365a833a3/azureml_core-1.0.79-py2.py3-none-any.whl\n",
      "Collecting azureml-train==1.0.79.* (from azureml-sdk[notebooks])\n",
      "  Using cached https://files.pythonhosted.org/packages/0c/0a/f71160a45f58305991aaefb031c4fd881df6d4ae35177d4174a42b560ccc/azureml_train-1.0.79-py3-none-any.whl\n",
      "Collecting azureml-pipeline==1.0.79.* (from azureml-sdk[notebooks])\n",
      "  Using cached https://files.pythonhosted.org/packages/2a/49/2c551391699cfed348a02daa882f10e997d33d081f012b8e2a314b0fcec2/azureml_pipeline-1.0.79-py3-none-any.whl\n",
      "Collecting azureml-dataprep[fuse]<1.2.0a,>=1.1.29a (from azureml-sdk[notebooks])\n",
      "\u001b[?25l  Downloading https://files.pythonhosted.org/packages/d1/43/ea4dcba146a50bf2dfd4234eca38f241811cd7122154379cad6f5b6967dc/azureml_dataprep-1.1.33-py3-none-any.whl (26.9MB)\n",
      "\u001b[K     |████████████████████████████████| 26.9MB 4.4MB/s eta 0:00:01    |█████                           | 4.2MB 3.2MB/s eta 0:00:08     |████████████████████████████▊   | 24.1MB 2.6MB/s eta 0:00:02\n",
      "\u001b[?25hCollecting azureml-widgets==1.0.79.*; extra == \"notebooks\" (from azureml-sdk[notebooks])\n",
      "\u001b[?25l  Downloading https://files.pythonhosted.org/packages/25/fd/2f2774b161cd1d2fd36ac5dd8dd47fed031ad2a865a6ba74950366d5d0f0/azureml_widgets-1.0.79-py3-none-any.whl (13.9MB)\n",
      "\u001b[K     |████████████████████████████████| 13.9MB 6.6MB/s eta 0:00:01\n",
      "\u001b[?25hCollecting azureml-contrib-notebook==1.0.79.*; extra == \"notebooks\" (from azureml-sdk[notebooks])\n",
      "  Downloading https://files.pythonhosted.org/packages/c7/d2/b86ede3b36c5319f39ccbdbdbcec8f2a6b5edd77188a96d597da0d62393e/azureml_contrib_notebook-1.0.79-py2.py3-none-any.whl\n",
      "Requirement already satisfied, skipping upgrade: msrestazure>=0.4.33 in /home/cody/.local/lib/python3.7/site-packages (from azureml-core==1.0.79.*->azureml-sdk[notebooks]) (0.6.1)\n",
      "Requirement already satisfied, skipping upgrade: python-dateutil>=2.7.3 in /home/cody/miniconda3/lib/python3.7/site-packages (from azureml-core==1.0.79.*->azureml-sdk[notebooks]) (2.8.0)\n",
      "Requirement already satisfied, skipping upgrade: docker in /home/cody/.local/lib/python3.7/site-packages (from azureml-core==1.0.79.*->azureml-sdk[notebooks]) (4.0.2)\n",
      "Requirement already satisfied, skipping upgrade: adal>=1.2.0 in /home/cody/.local/lib/python3.7/site-packages (from azureml-core==1.0.79.*->azureml-sdk[notebooks]) (1.2.2)\n",
      "Requirement already satisfied, skipping upgrade: pyopenssl in /home/cody/.local/lib/python3.7/site-packages (from azureml-core==1.0.79.*->azureml-sdk[notebooks]) (19.0.0)\n",
      "Requirement already satisfied, skipping upgrade: backports.tempfile in /home/cody/.local/lib/python3.7/site-packages (from azureml-core==1.0.79.*->azureml-sdk[notebooks]) (1.0)\n",
      "Requirement already satisfied, skipping upgrade: PyJWT in /home/cody/.local/lib/python3.7/site-packages (from azureml-core==1.0.79.*->azureml-sdk[notebooks]) (1.7.1)\n",
      "Requirement already satisfied, skipping upgrade: pytz in /home/cody/.local/lib/python3.7/site-packages (from azureml-core==1.0.79.*->azureml-sdk[notebooks]) (2019.2)\n",
      "Requirement already satisfied, skipping upgrade: six>=1.11.0 in /home/cody/miniconda3/lib/python3.7/site-packages (from azureml-core==1.0.79.*->azureml-sdk[notebooks]) (1.12.0)\n",
      "Requirement already satisfied, skipping upgrade: azure-mgmt-containerregistry>=2.0.0 in /home/cody/.local/lib/python3.7/site-packages (from azureml-core==1.0.79.*->azureml-sdk[notebooks]) (2.8.0)\n",
      "Requirement already satisfied, skipping upgrade: cryptography!=1.9,!=2.0.*,!=2.1.*,!=2.2.* in /home/cody/.local/lib/python3.7/site-packages (from azureml-core==1.0.79.*->azureml-sdk[notebooks]) (2.7)\n",
      "Requirement already satisfied, skipping upgrade: azure-mgmt-keyvault>=0.40.0 in /home/cody/.local/lib/python3.7/site-packages (from azureml-core==1.0.79.*->azureml-sdk[notebooks]) (2.0.0)\n",
      "Requirement already satisfied, skipping upgrade: ruamel.yaml<=0.15.89,>=0.15.35 in /home/cody/.local/lib/python3.7/site-packages (from azureml-core==1.0.79.*->azureml-sdk[notebooks]) (0.15.89)\n",
      "Requirement already satisfied, skipping upgrade: jsonpickle in /home/cody/.local/lib/python3.7/site-packages (from azureml-core==1.0.79.*->azureml-sdk[notebooks]) (1.2)\n",
      "Requirement already satisfied, skipping upgrade: contextlib2 in /home/cody/.local/lib/python3.7/site-packages (from azureml-core==1.0.79.*->azureml-sdk[notebooks]) (0.5.5)\n",
      "Requirement already satisfied, skipping upgrade: jmespath in /home/cody/.local/lib/python3.7/site-packages (from azureml-core==1.0.79.*->azureml-sdk[notebooks]) (0.9.4)\n",
      "Requirement already satisfied, skipping upgrade: azure-common>=1.1.12 in /home/cody/.local/lib/python3.7/site-packages (from azureml-core==1.0.79.*->azureml-sdk[notebooks]) (1.1.23)\n",
      "Requirement already satisfied, skipping upgrade: azure-mgmt-resource>=1.2.1 in /home/cody/.local/lib/python3.7/site-packages (from azureml-core==1.0.79.*->azureml-sdk[notebooks]) (3.1.0)\n",
      "Requirement already satisfied, skipping upgrade: SecretStorage in /home/cody/.local/lib/python3.7/site-packages (from azureml-core==1.0.79.*->azureml-sdk[notebooks]) (3.1.1)\n",
      "Requirement already satisfied, skipping upgrade: pathspec in /home/cody/.local/lib/python3.7/site-packages (from azureml-core==1.0.79.*->azureml-sdk[notebooks]) (0.5.9)\n",
      "Requirement already satisfied, skipping upgrade: azure-mgmt-storage>=1.5.0 in /home/cody/.local/lib/python3.7/site-packages (from azureml-core==1.0.79.*->azureml-sdk[notebooks]) (4.0.0)\n",
      "Requirement already satisfied, skipping upgrade: ndg-httpsclient in /home/cody/.local/lib/python3.7/site-packages (from azureml-core==1.0.79.*->azureml-sdk[notebooks]) (0.5.1)\n",
      "Requirement already satisfied, skipping upgrade: msrest>=0.5.1 in /home/cody/.local/lib/python3.7/site-packages (from azureml-core==1.0.79.*->azureml-sdk[notebooks]) (0.6.9)\n",
      "Requirement already satisfied, skipping upgrade: requests>=2.19.1 in /home/cody/.local/lib/python3.7/site-packages (from azureml-core==1.0.79.*->azureml-sdk[notebooks]) (2.22.0)\n",
      "Requirement already satisfied, skipping upgrade: urllib3>=1.23 in /home/cody/.local/lib/python3.7/site-packages (from azureml-core==1.0.79.*->azureml-sdk[notebooks]) (1.25.3)\n",
      "Requirement already satisfied, skipping upgrade: azure-mgmt-authorization>=0.40.0 in /home/cody/.local/lib/python3.7/site-packages (from azureml-core==1.0.79.*->azureml-sdk[notebooks]) (0.60.0)\n",
      "Requirement already satisfied, skipping upgrade: azure-graphrbac>=0.40.0 in /home/cody/.local/lib/python3.7/site-packages (from azureml-core==1.0.79.*->azureml-sdk[notebooks]) (0.61.1)\n",
      "Collecting azureml-train-core==1.0.79.* (from azureml-train==1.0.79.*->azureml-sdk[notebooks])\n",
      "  Using cached https://files.pythonhosted.org/packages/9e/22/1881bde92eb457869a21bd304c856af427142acb336d3168217d3935aa6a/azureml_train_core-1.0.79-py3-none-any.whl\n",
      "Collecting azureml-pipeline-core==1.0.79.* (from azureml-pipeline==1.0.79.*->azureml-sdk[notebooks])\n",
      "  Using cached https://files.pythonhosted.org/packages/bd/b6/4db19cdff4106106dfed3162614506e247e399c1d21314acb69e72d987a8/azureml_pipeline_core-1.0.79-py2.py3-none-any.whl\n",
      "Collecting azureml-pipeline-steps==1.0.79.* (from azureml-pipeline==1.0.79.*->azureml-sdk[notebooks])\n",
      "  Using cached https://files.pythonhosted.org/packages/7d/12/d01d2e7d779524ae9bbe965a3623e23cbc23e43dfa8aa7841ffa8f424e0b/azureml_pipeline_steps-1.0.79-py3-none-any.whl\n",
      "Collecting azureml-dataprep-native<14.0.0,>=13.1.0 (from azureml-dataprep[fuse]<1.2.0a,>=1.1.29a->azureml-sdk[notebooks])\n",
      "  Using cached https://files.pythonhosted.org/packages/5b/dc/22cd849ce6718b75ac78f902f4cb3a276bd5f69ec522cb32a1519853b725/azureml_dataprep_native-13.1.0-cp37-cp37m-manylinux1_x86_64.whl\n",
      "Requirement already satisfied, skipping upgrade: cloudpickle>=1.1.0 in /home/cody/.local/lib/python3.7/site-packages (from azureml-dataprep[fuse]<1.2.0a,>=1.1.29a->azureml-sdk[notebooks]) (1.2.1)\n",
      "Requirement already satisfied, skipping upgrade: dotnetcore2>=2.1.9 in /home/cody/miniconda3/lib/python3.7/site-packages (from azureml-dataprep[fuse]<1.2.0a,>=1.1.29a->azureml-sdk[notebooks]) (2.1.9)\n",
      "Requirement already satisfied, skipping upgrade: fusepy>=3.0.1; extra == \"fuse\" in /home/cody/miniconda3/lib/python3.7/site-packages (from azureml-dataprep[fuse]<1.2.0a,>=1.1.29a->azureml-sdk[notebooks]) (3.0.1)\n",
      "Collecting azureml-telemetry==1.0.79.* (from azureml-widgets==1.0.79.*; extra == \"notebooks\"->azureml-sdk[notebooks])\n",
      "  Using cached https://files.pythonhosted.org/packages/86/d3/1928c063757c102c85c09062dd7c032dbc2fff57d9ed7eb5ba4fa90f8540/azureml_telemetry-1.0.79-py3-none-any.whl\n",
      "Collecting ipywidgets>=7.0.0 (from azureml-widgets==1.0.79.*; extra == \"notebooks\"->azureml-sdk[notebooks])\n",
      "  Using cached https://files.pythonhosted.org/packages/56/a0/dbcf5881bb2f51e8db678211907f16ea0a182b232c591a6d6f276985ca95/ipywidgets-7.5.1-py2.py3-none-any.whl\n",
      "Collecting ipython (from azureml-contrib-notebook==1.0.79.*; extra == \"notebooks\"->azureml-sdk[notebooks])\n",
      "\u001b[?25l  Downloading https://files.pythonhosted.org/packages/c4/c0/dc2e62d068f0f63910a3ab565a7fbbe1a20946b23f0945525826d9bbc98f/ipython-7.10.2-py3-none-any.whl (778kB)\n",
      "\u001b[K     |████████████████████████████████| 788kB 2.2MB/s eta 0:00:01\n",
      "\u001b[?25hCollecting papermill (from azureml-contrib-notebook==1.0.79.*; extra == \"notebooks\"->azureml-sdk[notebooks])\n",
      "  Using cached https://files.pythonhosted.org/packages/7f/67/338f08d7950c27d6cfe580cf4d1995600e368f584469cffb8d557fe51ab5/papermill-1.2.1-py2.py3-none-any.whl\n",
      "Collecting ipykernel (from azureml-contrib-notebook==1.0.79.*; extra == \"notebooks\"->azureml-sdk[notebooks])\n",
      "\u001b[?25l  Downloading https://files.pythonhosted.org/packages/e1/92/8fec943b5b81078399f969f00557804d884c96fcd0bc296e81a2ed4fd270/ipykernel-5.1.3-py3-none-any.whl (116kB)\n",
      "\u001b[K     |████████████████████████████████| 122kB 1.8MB/s eta 0:00:01\n",
      "\u001b[?25hRequirement already satisfied, skipping upgrade: websocket-client>=0.32.0 in /home/cody/.local/lib/python3.7/site-packages (from docker->azureml-core==1.0.79.*->azureml-sdk[notebooks]) (0.56.0)\n",
      "Requirement already satisfied, skipping upgrade: backports.weakref in /home/cody/.local/lib/python3.7/site-packages (from backports.tempfile->azureml-core==1.0.79.*->azureml-sdk[notebooks]) (1.0.post1)\n",
      "Requirement already satisfied, skipping upgrade: asn1crypto>=0.21.0 in /home/cody/.local/lib/python3.7/site-packages (from cryptography!=1.9,!=2.0.*,!=2.1.*,!=2.2.*->azureml-core==1.0.79.*->azureml-sdk[notebooks]) (0.24.0)\n",
      "Requirement already satisfied, skipping upgrade: cffi!=1.11.3,>=1.8 in /home/cody/.local/lib/python3.7/site-packages (from cryptography!=1.9,!=2.0.*,!=2.1.*,!=2.2.*->azureml-core==1.0.79.*->azureml-sdk[notebooks]) (1.12.3)\n",
      "Requirement already satisfied, skipping upgrade: jeepney in /home/cody/.local/lib/python3.7/site-packages (from SecretStorage->azureml-core==1.0.79.*->azureml-sdk[notebooks]) (0.4.1)\n",
      "Requirement already satisfied, skipping upgrade: pyasn1>=0.1.1 in /home/cody/.local/lib/python3.7/site-packages (from ndg-httpsclient->azureml-core==1.0.79.*->azureml-sdk[notebooks]) (0.4.6)\n",
      "Requirement already satisfied, skipping upgrade: isodate>=0.6.0 in /home/cody/.local/lib/python3.7/site-packages (from msrest>=0.5.1->azureml-core==1.0.79.*->azureml-sdk[notebooks]) (0.6.0)\n",
      "Requirement already satisfied, skipping upgrade: certifi>=2017.4.17 in /home/cody/miniconda3/lib/python3.7/site-packages (from msrest>=0.5.1->azureml-core==1.0.79.*->azureml-sdk[notebooks]) (2019.6.16)\n",
      "Requirement already satisfied, skipping upgrade: requests-oauthlib>=0.5.0 in /home/cody/.local/lib/python3.7/site-packages (from msrest>=0.5.1->azureml-core==1.0.79.*->azureml-sdk[notebooks]) (1.2.0)\n",
      "Requirement already satisfied, skipping upgrade: idna<2.9,>=2.5 in /home/cody/.local/lib/python3.7/site-packages (from requests>=2.19.1->azureml-core==1.0.79.*->azureml-sdk[notebooks]) (2.8)\n",
      "Requirement already satisfied, skipping upgrade: chardet<3.1.0,>=3.0.2 in /home/cody/.local/lib/python3.7/site-packages (from requests>=2.19.1->azureml-core==1.0.79.*->azureml-sdk[notebooks]) (3.0.4)\n",
      "Collecting flake8<=3.7.9,>=3.1.0; python_version >= \"3.6\" (from azureml-train-core==1.0.79.*->azureml-train==1.0.79.*->azureml-sdk[notebooks])\n",
      "  Using cached https://files.pythonhosted.org/packages/f8/1f/7ea40d1e4146ea55dbab41cda1376db092a75794914169aabd7e8d7a7def/flake8-3.7.9-py2.py3-none-any.whl\n",
      "Collecting azureml-train-restclients-hyperdrive==1.0.79.* (from azureml-train-core==1.0.79.*->azureml-train==1.0.79.*->azureml-sdk[notebooks])\n",
      "  Using cached https://files.pythonhosted.org/packages/ad/bf/2bbbb36d7c576ef96f87ab2fdcf292290725e1c1bd068bedea0e4e765a81/azureml_train_restclients_hyperdrive-1.0.79-py3-none-any.whl\n",
      "Requirement already satisfied, skipping upgrade: distro>=1.2.0 in /home/cody/.local/lib/python3.7/site-packages (from dotnetcore2>=2.1.9->azureml-dataprep[fuse]<1.2.0a,>=1.1.29a->azureml-sdk[notebooks]) (1.4.0)\n",
      "Requirement already satisfied, skipping upgrade: applicationinsights in /home/cody/.local/lib/python3.7/site-packages (from azureml-telemetry==1.0.79.*->azureml-widgets==1.0.79.*; extra == \"notebooks\"->azureml-sdk[notebooks]) (0.11.9)\n",
      "Collecting widgetsnbextension~=3.5.0 (from ipywidgets>=7.0.0->azureml-widgets==1.0.79.*; extra == \"notebooks\"->azureml-sdk[notebooks])\n",
      "  Using cached https://files.pythonhosted.org/packages/6c/7b/7ac231c20d2d33c445eaacf8a433f4e22c60677eb9776c7c5262d7ddee2d/widgetsnbextension-3.5.1-py2.py3-none-any.whl\n",
      "Collecting traitlets>=4.3.1 (from ipywidgets>=7.0.0->azureml-widgets==1.0.79.*; extra == \"notebooks\"->azureml-sdk[notebooks])\n",
      "\u001b[?25l  Downloading https://files.pythonhosted.org/packages/ca/ab/872a23e29cec3cf2594af7e857f18b687ad21039c1f9b922fac5b9b142d5/traitlets-4.3.3-py2.py3-none-any.whl (75kB)\n",
      "\u001b[K     |████████████████████████████████| 81kB 1.5MB/s eta 0:00:01\n",
      "\u001b[?25hCollecting nbformat>=4.2.0 (from ipywidgets>=7.0.0->azureml-widgets==1.0.79.*; extra == \"notebooks\"->azureml-sdk[notebooks])\n",
      "  Using cached https://files.pythonhosted.org/packages/da/27/9a654d2b6cc1eaa517d1c5a4405166c7f6d72f04f6e7eea41855fe808a46/nbformat-4.4.0-py2.py3-none-any.whl\n",
      "Collecting pygments (from ipython->azureml-contrib-notebook==1.0.79.*; extra == \"notebooks\"->azureml-sdk[notebooks])\n",
      "\u001b[?25l  Downloading https://files.pythonhosted.org/packages/be/39/32da3184734730c0e4d3fa3b2b5872104668ad6dc1b5a73d8e477e5fe967/Pygments-2.5.2-py2.py3-none-any.whl (896kB)\n",
      "\u001b[K     |████████████████████████████████| 901kB 1.6MB/s eta 0:00:01\n",
      "\u001b[?25hCollecting jedi>=0.10 (from ipython->azureml-contrib-notebook==1.0.79.*; extra == \"notebooks\"->azureml-sdk[notebooks])\n",
      "\u001b[?25l  Downloading https://files.pythonhosted.org/packages/e9/97/55e575a5b49e5c3df9eb3c116c61021d7badf556c816be13bbd7baf55234/jedi-0.15.2-py2.py3-none-any.whl (1.1MB)\n",
      "\u001b[K     |████████████████████████████████| 1.1MB 3.4MB/s eta 0:00:01\n",
      "\u001b[?25hCollecting pickleshare (from ipython->azureml-contrib-notebook==1.0.79.*; extra == \"notebooks\"->azureml-sdk[notebooks])\n",
      "  Using cached https://files.pythonhosted.org/packages/9a/41/220f49aaea88bc6fa6cba8d05ecf24676326156c23b991e80b3f2fc24c77/pickleshare-0.7.5-py2.py3-none-any.whl\n",
      "Collecting prompt-toolkit!=3.0.0,!=3.0.1,<3.1.0,>=2.0.0 (from ipython->azureml-contrib-notebook==1.0.79.*; extra == \"notebooks\"->azureml-sdk[notebooks])\n",
      "\u001b[?25l  Downloading https://files.pythonhosted.org/packages/7f/1f/e145dd467dc9b0e6f1e64232c03119498dfec497e383f1e8be9f83eaa97e/prompt_toolkit-3.0.2-py3-none-any.whl (344kB)\n",
      "\u001b[K     |████████████████████████████████| 348kB 3.7MB/s eta 0:00:01\n",
      "\u001b[?25hCollecting pexpect; sys_platform != \"win32\" (from ipython->azureml-contrib-notebook==1.0.79.*; extra == \"notebooks\"->azureml-sdk[notebooks])\n",
      "  Using cached https://files.pythonhosted.org/packages/0e/3e/377007e3f36ec42f1b84ec322ee12141a9e10d808312e5738f52f80a232c/pexpect-4.7.0-py2.py3-none-any.whl\n",
      "Requirement already satisfied, skipping upgrade: setuptools>=18.5 in /home/cody/miniconda3/lib/python3.7/site-packages (from ipython->azureml-contrib-notebook==1.0.79.*; extra == \"notebooks\"->azureml-sdk[notebooks]) (41.0.1)\n",
      "Collecting decorator (from ipython->azureml-contrib-notebook==1.0.79.*; extra == \"notebooks\"->azureml-sdk[notebooks])\n",
      "  Downloading https://files.pythonhosted.org/packages/8f/b7/f329cfdc75f3d28d12c65980e4469e2fa373f1953f5df6e370e84ea2e875/decorator-4.4.1-py2.py3-none-any.whl\n",
      "Collecting backcall (from ipython->azureml-contrib-notebook==1.0.79.*; extra == \"notebooks\"->azureml-sdk[notebooks])\n",
      "Collecting entrypoints (from papermill->azureml-contrib-notebook==1.0.79.*; extra == \"notebooks\"->azureml-sdk[notebooks])\n",
      "  Using cached https://files.pythonhosted.org/packages/ac/c6/44694103f8c221443ee6b0041f69e2740d89a25641e62fb4f2ee568f2f9c/entrypoints-0.3-py2.py3-none-any.whl\n",
      "Collecting future (from papermill->azureml-contrib-notebook==1.0.79.*; extra == \"notebooks\"->azureml-sdk[notebooks])\n",
      "  Using cached https://files.pythonhosted.org/packages/45/0b/38b06fd9b92dc2b68d58b75f900e97884c45bedd2ff83203d933cf5851c9/future-0.18.2.tar.gz\n",
      "Collecting jupyter-client (from papermill->azureml-contrib-notebook==1.0.79.*; extra == \"notebooks\"->azureml-sdk[notebooks])\n",
      "\u001b[?25l  Downloading https://files.pythonhosted.org/packages/13/81/fe0eee1bcf949851a120254b1f530ae1e01bdde2d3ab9710c6ff81525061/jupyter_client-5.3.4-py2.py3-none-any.whl (92kB)\n",
      "\u001b[K     |████████████████████████████████| 92kB 1.7MB/s eta 0:00:011\n",
      "\u001b[?25hCollecting pyyaml (from papermill->azureml-contrib-notebook==1.0.79.*; extra == \"notebooks\"->azureml-sdk[notebooks])\n",
      "\u001b[?25l  Downloading https://files.pythonhosted.org/packages/8d/c9/e5be955a117a1ac548cdd31e37e8fd7b02ce987f9655f5c7563c656d5dcb/PyYAML-5.2.tar.gz (265kB)\n",
      "\u001b[K     |████████████████████████████████| 266kB 4.8MB/s eta 0:00:01\n",
      "\u001b[?25hCollecting tqdm>=4.32.2 (from papermill->azureml-contrib-notebook==1.0.79.*; extra == \"notebooks\"->azureml-sdk[notebooks])\n",
      "\u001b[?25l  Downloading https://files.pythonhosted.org/packages/8c/c3/d049cf3fb31094ee045ec1ee29fffac218c91e82c8838c49ab4c3e52627b/tqdm-4.41.0-py2.py3-none-any.whl (56kB)\n",
      "\u001b[K     |████████████████████████████████| 61kB 3.1MB/s eta 0:00:011\n",
      "\u001b[?25hCollecting nbconvert>=5.5 (from papermill->azureml-contrib-notebook==1.0.79.*; extra == \"notebooks\"->azureml-sdk[notebooks])\n",
      "\u001b[?25l  Downloading https://files.pythonhosted.org/packages/79/6c/05a569e9f703d18aacb89b7ad6075b404e8a4afde2c26b73ca77bb644b14/nbconvert-5.6.1-py2.py3-none-any.whl (455kB)\n",
      "\u001b[K     |████████████████████████████████| 460kB 2.4MB/s eta 0:00:01\n",
      "\u001b[?25hCollecting tenacity (from papermill->azureml-contrib-notebook==1.0.79.*; extra == \"notebooks\"->azureml-sdk[notebooks])\n",
      "  Using cached https://files.pythonhosted.org/packages/bf/d4/8cab4b5239ddb62d950243abff9e88046bb61737ce3eee8694b3d748560c/tenacity-6.0.0-py2.py3-none-any.whl\n",
      "Collecting click (from papermill->azureml-contrib-notebook==1.0.79.*; extra == \"notebooks\"->azureml-sdk[notebooks])\n",
      "  Using cached https://files.pythonhosted.org/packages/fa/37/45185cb5abbc30d7257104c434fe0b07e5a195a6847506c074527aa599ec/Click-7.0-py2.py3-none-any.whl\n",
      "Collecting ansiwrap (from papermill->azureml-contrib-notebook==1.0.79.*; extra == \"notebooks\"->azureml-sdk[notebooks])\n",
      "  Using cached https://files.pythonhosted.org/packages/03/50/43e775a63e0d632d9be3b3fa1c9b2cbaf3b7870d203655710a3426f47c26/ansiwrap-0.8.4-py2.py3-none-any.whl\n",
      "Collecting tornado>=4.2 (from ipykernel->azureml-contrib-notebook==1.0.79.*; extra == \"notebooks\"->azureml-sdk[notebooks])\n",
      "\u001b[?25l  Downloading https://files.pythonhosted.org/packages/30/78/2d2823598496127b21423baffaa186b668f73cd91887fcef78b6eade136b/tornado-6.0.3.tar.gz (482kB)\n",
      "\u001b[K     |████████████████████████████████| 491kB 4.1MB/s eta 0:00:01\n",
      "\u001b[?25hRequirement already satisfied, skipping upgrade: pycparser in /home/cody/.local/lib/python3.7/site-packages (from cffi!=1.11.3,>=1.8->cryptography!=1.9,!=2.0.*,!=2.1.*,!=2.2.*->azureml-core==1.0.79.*->azureml-sdk[notebooks]) (2.19)\n",
      "Requirement already satisfied, skipping upgrade: oauthlib>=3.0.0 in /home/cody/.local/lib/python3.7/site-packages (from requests-oauthlib>=0.5.0->msrest>=0.5.1->azureml-core==1.0.79.*->azureml-sdk[notebooks]) (3.1.0)\n",
      "Collecting mccabe<0.7.0,>=0.6.0 (from flake8<=3.7.9,>=3.1.0; python_version >= \"3.6\"->azureml-train-core==1.0.79.*->azureml-train==1.0.79.*->azureml-sdk[notebooks])\n",
      "  Using cached https://files.pythonhosted.org/packages/87/89/479dc97e18549e21354893e4ee4ef36db1d237534982482c3681ee6e7b57/mccabe-0.6.1-py2.py3-none-any.whl\n",
      "Collecting pyflakes<2.2.0,>=2.1.0 (from flake8<=3.7.9,>=3.1.0; python_version >= \"3.6\"->azureml-train-core==1.0.79.*->azureml-train==1.0.79.*->azureml-sdk[notebooks])\n",
      "  Using cached https://files.pythonhosted.org/packages/84/f2/ed0ffb887f8138a8fe5a621b8c0bb9598bfb3989e029f6c6a85ee66628ee/pyflakes-2.1.1-py2.py3-none-any.whl\n",
      "Collecting pycodestyle<2.6.0,>=2.5.0 (from flake8<=3.7.9,>=3.1.0; python_version >= \"3.6\"->azureml-train-core==1.0.79.*->azureml-train==1.0.79.*->azureml-sdk[notebooks])\n",
      "  Using cached https://files.pythonhosted.org/packages/0e/0c/04a353e104d2f324f8ee5f4b32012618c1c86dd79e52a433b64fceed511b/pycodestyle-2.5.0-py2.py3-none-any.whl\n",
      "Collecting notebook>=4.4.1 (from widgetsnbextension~=3.5.0->ipywidgets>=7.0.0->azureml-widgets==1.0.79.*; extra == \"notebooks\"->azureml-sdk[notebooks])\n",
      "\u001b[?25l  Downloading https://files.pythonhosted.org/packages/f5/69/d2ffaf7efc20ce47469187e3a41e6e03e17b45de5a6559f4e7ab3eace5e1/notebook-6.0.2-py3-none-any.whl (9.7MB)\n",
      "\u001b[K     |████████████████████████████████| 9.7MB 1.8MB/s eta 0:00:01\n",
      "\u001b[?25hCollecting ipython-genutils (from traitlets>=4.3.1->ipywidgets>=7.0.0->azureml-widgets==1.0.79.*; extra == \"notebooks\"->azureml-sdk[notebooks])\n",
      "  Using cached https://files.pythonhosted.org/packages/fa/bc/9bd3b5c2b4774d5f33b2d544f1460be9df7df2fe42f352135381c347c69a/ipython_genutils-0.2.0-py2.py3-none-any.whl\n",
      "Collecting jupyter-core (from nbformat>=4.2.0->ipywidgets>=7.0.0->azureml-widgets==1.0.79.*; extra == \"notebooks\"->azureml-sdk[notebooks])\n",
      "\u001b[?25l  Downloading https://files.pythonhosted.org/packages/fb/82/86437f661875e30682e99d04c13ba6c216f86f5f6ca6ef212d3ee8b6ca11/jupyter_core-4.6.1-py2.py3-none-any.whl (82kB)\n",
      "\u001b[K     |████████████████████████████████| 92kB 3.8MB/s eta 0:00:01\n",
      "\u001b[?25hCollecting jsonschema!=2.5.0,>=2.4 (from nbformat>=4.2.0->ipywidgets>=7.0.0->azureml-widgets==1.0.79.*; extra == \"notebooks\"->azureml-sdk[notebooks])\n",
      "\u001b[?25l  Downloading https://files.pythonhosted.org/packages/c5/8f/51e89ce52a085483359217bc72cdbf6e75ee595d5b1d4b5ade40c7e018b8/jsonschema-3.2.0-py2.py3-none-any.whl (56kB)\n",
      "\u001b[K     |████████████████████████████████| 61kB 4.5MB/s  eta 0:00:01\n",
      "\u001b[?25hCollecting parso>=0.5.2 (from jedi>=0.10->ipython->azureml-contrib-notebook==1.0.79.*; extra == \"notebooks\"->azureml-sdk[notebooks])\n",
      "\u001b[?25l  Downloading https://files.pythonhosted.org/packages/9b/b0/90353a5ece0987279837835224dead0c424833a224195683e188d384e06b/parso-0.5.2-py2.py3-none-any.whl (99kB)\n",
      "\u001b[K     |████████████████████████████████| 102kB 3.5MB/s ta 0:00:011\n",
      "\u001b[?25hCollecting wcwidth (from prompt-toolkit!=3.0.0,!=3.0.1,<3.1.0,>=2.0.0->ipython->azureml-contrib-notebook==1.0.79.*; extra == \"notebooks\"->azureml-sdk[notebooks])\n",
      "  Using cached https://files.pythonhosted.org/packages/7e/9f/526a6947247599b084ee5232e4f9190a38f398d7300d866af3ab571a5bfe/wcwidth-0.1.7-py2.py3-none-any.whl\n",
      "Collecting ptyprocess>=0.5 (from pexpect; sys_platform != \"win32\"->ipython->azureml-contrib-notebook==1.0.79.*; extra == \"notebooks\"->azureml-sdk[notebooks])\n",
      "  Using cached https://files.pythonhosted.org/packages/d1/29/605c2cc68a9992d18dada28206eeada56ea4bd07a239669da41674648b6f/ptyprocess-0.6.0-py2.py3-none-any.whl\n",
      "Collecting pyzmq>=13 (from jupyter-client->papermill->azureml-contrib-notebook==1.0.79.*; extra == \"notebooks\"->azureml-sdk[notebooks])\n",
      "\u001b[?25l  Downloading https://files.pythonhosted.org/packages/bf/dd/547bee2080beefe6546c332422cb0f189b3cd71cfff048146cd9ac3751cc/pyzmq-18.1.1-cp37-cp37m-manylinux1_x86_64.whl (1.1MB)\n",
      "\u001b[K     |████████████████████████████████| 1.1MB 2.4MB/s eta 0:00:01\n",
      "\u001b[?25hCollecting jinja2>=2.4 (from nbconvert>=5.5->papermill->azureml-contrib-notebook==1.0.79.*; extra == \"notebooks\"->azureml-sdk[notebooks])\n",
      "\u001b[?25l  Downloading https://files.pythonhosted.org/packages/65/e0/eb35e762802015cab1ccee04e8a277b03f1d8e53da3ec3106882ec42558b/Jinja2-2.10.3-py2.py3-none-any.whl (125kB)\n",
      "\u001b[K     |████████████████████████████████| 133kB 5.7MB/s eta 0:00:01\n",
      "\u001b[?25hCollecting bleach (from nbconvert>=5.5->papermill->azureml-contrib-notebook==1.0.79.*; extra == \"notebooks\"->azureml-sdk[notebooks])\n",
      "  Using cached https://files.pythonhosted.org/packages/ab/05/27e1466475e816d3001efb6e0a85a819be17411420494a1e602c36f8299d/bleach-3.1.0-py2.py3-none-any.whl\n",
      "Collecting pandocfilters>=1.4.1 (from nbconvert>=5.5->papermill->azureml-contrib-notebook==1.0.79.*; extra == \"notebooks\"->azureml-sdk[notebooks])\n",
      "Collecting mistune<2,>=0.8.1 (from nbconvert>=5.5->papermill->azureml-contrib-notebook==1.0.79.*; extra == \"notebooks\"->azureml-sdk[notebooks])\n",
      "  Using cached https://files.pythonhosted.org/packages/09/ec/4b43dae793655b7d8a25f76119624350b4d65eb663459eb9603d7f1f0345/mistune-0.8.4-py2.py3-none-any.whl\n",
      "Collecting testpath (from nbconvert>=5.5->papermill->azureml-contrib-notebook==1.0.79.*; extra == \"notebooks\"->azureml-sdk[notebooks])\n",
      "\u001b[?25l  Downloading https://files.pythonhosted.org/packages/1b/9e/1a170feaa54f22aeb5a5d16c9015e82234275a3c8ab630b552493f9cb8a9/testpath-0.4.4-py2.py3-none-any.whl (163kB)\n",
      "\u001b[K     |████████████████████████████████| 174kB 2.0MB/s eta 0:00:01\n",
      "\u001b[?25hCollecting defusedxml (from nbconvert>=5.5->papermill->azureml-contrib-notebook==1.0.79.*; extra == \"notebooks\"->azureml-sdk[notebooks])\n",
      "  Downloading https://files.pythonhosted.org/packages/06/74/9b387472866358ebc08732de3da6dc48e44b0aacd2ddaa5cb85ab7e986a2/defusedxml-0.6.0-py2.py3-none-any.whl\n",
      "Collecting textwrap3>=0.9.2 (from ansiwrap->papermill->azureml-contrib-notebook==1.0.79.*; extra == \"notebooks\"->azureml-sdk[notebooks])\n",
      "  Using cached https://files.pythonhosted.org/packages/77/9c/a53e561d496ee5866bbeea4d3a850b3b545ed854f8a21007c1e0d872e94d/textwrap3-0.9.2-py2.py3-none-any.whl\n",
      "Collecting terminado>=0.8.1 (from notebook>=4.4.1->widgetsnbextension~=3.5.0->ipywidgets>=7.0.0->azureml-widgets==1.0.79.*; extra == \"notebooks\"->azureml-sdk[notebooks])\n",
      "  Downloading https://files.pythonhosted.org/packages/ff/96/1d9a2c23990aea8f8e0b5c3b6627d03196a73771a17a2d9860bbe9823ab6/terminado-0.8.3-py2.py3-none-any.whl\n",
      "Collecting prometheus-client (from notebook>=4.4.1->widgetsnbextension~=3.5.0->ipywidgets>=7.0.0->azureml-widgets==1.0.79.*; extra == \"notebooks\"->azureml-sdk[notebooks])\n",
      "  Downloading https://files.pythonhosted.org/packages/b3/23/41a5a24b502d35a4ad50a5bb7202a5e1d9a0364d0c12f56db3dbf7aca76d/prometheus_client-0.7.1.tar.gz\n",
      "Collecting Send2Trash (from notebook>=4.4.1->widgetsnbextension~=3.5.0->ipywidgets>=7.0.0->azureml-widgets==1.0.79.*; extra == \"notebooks\"->azureml-sdk[notebooks])\n",
      "  Using cached https://files.pythonhosted.org/packages/49/46/c3dc27481d1cc57b9385aff41c474ceb7714f7935b1247194adae45db714/Send2Trash-1.5.0-py3-none-any.whl\n",
      "Collecting pyrsistent>=0.14.0 (from jsonschema!=2.5.0,>=2.4->nbformat>=4.2.0->ipywidgets>=7.0.0->azureml-widgets==1.0.79.*; extra == \"notebooks\"->azureml-sdk[notebooks])\n",
      "\u001b[?25l  Downloading https://files.pythonhosted.org/packages/6c/6f/c1a2e8da80a0029f6b618d7e20e1a6f2a61dd04e2e54225309c2cc4268f7/pyrsistent-0.15.6.tar.gz (107kB)\n",
      "\u001b[K     |████████████████████████████████| 112kB 1.4MB/s eta 0:00:01\n",
      "\u001b[?25hCollecting attrs>=17.4.0 (from jsonschema!=2.5.0,>=2.4->nbformat>=4.2.0->ipywidgets>=7.0.0->azureml-widgets==1.0.79.*; extra == \"notebooks\"->azureml-sdk[notebooks])\n",
      "  Downloading https://files.pythonhosted.org/packages/a2/db/4313ab3be961f7a763066401fb77f7748373b6094076ae2bda2806988af6/attrs-19.3.0-py2.py3-none-any.whl\n",
      "Collecting importlib-metadata; python_version < \"3.8\" (from jsonschema!=2.5.0,>=2.4->nbformat>=4.2.0->ipywidgets>=7.0.0->azureml-widgets==1.0.79.*; extra == \"notebooks\"->azureml-sdk[notebooks])\n",
      "  Downloading https://files.pythonhosted.org/packages/e9/71/1a1e0ed0981bb6a67bce55a210f168126b7ebd2065958673797ea66489ca/importlib_metadata-1.3.0-py2.py3-none-any.whl\n",
      "Collecting MarkupSafe>=0.23 (from jinja2>=2.4->nbconvert>=5.5->papermill->azureml-contrib-notebook==1.0.79.*; extra == \"notebooks\"->azureml-sdk[notebooks])\n",
      "  Using cached https://files.pythonhosted.org/packages/98/7b/ff284bd8c80654e471b769062a9b43cc5d03e7a615048d96f4619df8d420/MarkupSafe-1.1.1-cp37-cp37m-manylinux1_x86_64.whl\n",
      "Collecting webencodings (from bleach->nbconvert>=5.5->papermill->azureml-contrib-notebook==1.0.79.*; extra == \"notebooks\"->azureml-sdk[notebooks])\n",
      "  Using cached https://files.pythonhosted.org/packages/f4/24/2a3e3df732393fed8b3ebf2ec078f05546de641fe1b667ee316ec1dcf3b7/webencodings-0.5.1-py2.py3-none-any.whl\n",
      "Collecting zipp>=0.5 (from importlib-metadata; python_version < \"3.8\"->jsonschema!=2.5.0,>=2.4->nbformat>=4.2.0->ipywidgets>=7.0.0->azureml-widgets==1.0.79.*; extra == \"notebooks\"->azureml-sdk[notebooks])\n",
      "  Downloading https://files.pythonhosted.org/packages/74/3d/1ee25a26411ba0401b43c6376d2316a71addcc72ef8690b101b4ea56d76a/zipp-0.6.0-py2.py3-none-any.whl\n",
      "Collecting more-itertools (from zipp>=0.5->importlib-metadata; python_version < \"3.8\"->jsonschema!=2.5.0,>=2.4->nbformat>=4.2.0->ipywidgets>=7.0.0->azureml-widgets==1.0.79.*; extra == \"notebooks\"->azureml-sdk[notebooks])\n",
      "\u001b[?25l  Downloading https://files.pythonhosted.org/packages/68/03/0604cec1ea13c9f063dd50f900d1a36160334dd3cfb01fd0e638f61b46ba/more_itertools-8.0.2-py3-none-any.whl (40kB)\n",
      "\u001b[K     |████████████████████████████████| 40kB 1.5MB/s eta 0:00:01\n",
      "\u001b[?25hBuilding wheels for collected packages: future, pyyaml, tornado, prometheus-client, pyrsistent\n",
      "  Building wheel for future (setup.py) ... \u001b[?25ldone\n",
      "\u001b[?25h  Stored in directory: /home/cody/.cache/pip/wheels/8b/99/a0/81daf51dcd359a9377b110a8a886b3895921802d2fc1b2397e\n",
      "  Building wheel for pyyaml (setup.py) ... \u001b[?25ldone\n",
      "\u001b[?25h  Stored in directory: /home/cody/.cache/pip/wheels/54/b7/c7/2ada654ee54483c9329871665aaf4a6056c3ce36f29cf66e67\n",
      "  Building wheel for tornado (setup.py) ... \u001b[?25ldone\n",
      "\u001b[?25h  Stored in directory: /home/cody/.cache/pip/wheels/84/bf/40/2f6ef700f48401ca40e5e3dd7d0e3c0a90e064897b7fe5fc08\n",
      "  Building wheel for prometheus-client (setup.py) ... \u001b[?25ldone\n",
      "\u001b[?25h  Stored in directory: /home/cody/.cache/pip/wheels/1c/54/34/fd47cd9b308826cc4292b54449c1899a30251ef3b506bc91ea\n",
      "  Building wheel for pyrsistent (setup.py) ... \u001b[?25ldone\n",
      "\u001b[?25h  Stored in directory: /home/cody/.cache/pip/wheels/83/89/d3/1712b9c33c9b9c0911b188a86aeff2a9a05e113f986cf79d92\n",
      "Successfully built future pyyaml tornado prometheus-client pyrsistent\n",
      "\u001b[31mERROR: azureml-opendatasets 1.0.57 requires pyarrow<0.14.0, which is not installed.\u001b[0m\n",
      "\u001b[31mERROR: azureml-opendatasets 1.0.57 has requirement azureml-core==1.0.57.*, but you'll have azureml-core 1.0.79 which is incompatible.\u001b[0m\n",
      "\u001b[31mERROR: azureml-opendatasets 1.0.57 has requirement azureml-telemetry==1.0.57.*, but you'll have azureml-telemetry 1.0.79 which is incompatible.\u001b[0m\n",
      "\u001b[31mERROR: azureml-datadrift 0.1.0.5621271 has requirement azureml-core==0.1.0.5621271.*, but you'll have azureml-core 1.0.79 which is incompatible.\u001b[0m\n",
      "\u001b[31mERROR: azureml-datadrift 0.1.0.5621271 has requirement azureml-pipeline-core==0.1.0.5621271.*, but you'll have azureml-pipeline-core 1.0.79 which is incompatible.\u001b[0m\n",
      "\u001b[31mERROR: azureml-datadrift 0.1.0.5621271 has requirement azureml-pipeline-steps==0.1.0.5621271.*, but you'll have azureml-pipeline-steps 1.0.79 which is incompatible.\u001b[0m\n",
      "\u001b[31mERROR: azureml-datadrift 0.1.0.5621271 has requirement azureml-telemetry==0.1.0.5621271.*, but you'll have azureml-telemetry 1.0.79 which is incompatible.\u001b[0m\n",
      "Installing collected packages: azureml-core, azureml-telemetry, mccabe, pyflakes, entrypoints, pycodestyle, flake8, azureml-train-restclients-hyperdrive, azureml-train-core, azureml-train, azureml-pipeline-core, azureml-pipeline-steps, azureml-pipeline, azureml-dataprep-native, azureml-dataprep, pygments, parso, jedi, pickleshare, wcwidth, prompt-toolkit, ptyprocess, pexpect, decorator, ipython-genutils, traitlets, backcall, ipython, tornado, terminado, jupyter-core, pyzmq, jupyter-client, ipykernel, MarkupSafe, jinja2, prometheus-client, Send2Trash, pyrsistent, attrs, more-itertools, zipp, importlib-metadata, jsonschema, nbformat, webencodings, bleach, pandocfilters, mistune, testpath, defusedxml, nbconvert, notebook, widgetsnbextension, ipywidgets, azureml-widgets, future, pyyaml, tqdm, tenacity, click, textwrap3, ansiwrap, papermill, azureml-contrib-notebook, azureml-sdk\n",
      "Successfully installed MarkupSafe-1.1.1 Send2Trash-1.5.0 ansiwrap-0.8.4 attrs-19.3.0 azureml-contrib-notebook-1.0.79 azureml-core-1.0.79 azureml-dataprep-1.1.33 azureml-dataprep-native-13.1.0 azureml-pipeline-1.0.79 azureml-pipeline-core-1.0.79 azureml-pipeline-steps-1.0.79 azureml-sdk-1.0.79 azureml-telemetry-1.0.79 azureml-train-1.0.79 azureml-train-core-1.0.79 azureml-train-restclients-hyperdrive-1.0.79 azureml-widgets-1.0.79 backcall-0.1.0 bleach-3.1.0 click-7.0 decorator-4.4.1 defusedxml-0.6.0 entrypoints-0.3 flake8-3.7.9 future-0.18.2 importlib-metadata-1.3.0 ipykernel-5.1.3 ipython-7.10.2 ipython-genutils-0.2.0 ipywidgets-7.5.1 jedi-0.15.2 jinja2-2.10.3 jsonschema-3.2.0 jupyter-client-5.3.4 jupyter-core-4.6.1 mccabe-0.6.1 mistune-0.8.4 more-itertools-8.0.2 nbconvert-5.6.1 nbformat-4.4.0 notebook-6.0.2 pandocfilters-1.4.2 papermill-1.2.1 parso-0.5.2 pexpect-4.7.0 pickleshare-0.7.5 prometheus-client-0.7.1 prompt-toolkit-3.0.2 ptyprocess-0.6.0 pycodestyle-2.5.0 pyflakes-2.1.1 pygments-2.5.2 pyrsistent-0.15.6 pyyaml-5.2 pyzmq-18.1.1 tenacity-6.0.0 terminado-0.8.3 testpath-0.4.4 textwrap3-0.9.2 tornado-6.0.3 tqdm-4.41.0 traitlets-4.3.3 wcwidth-0.1.7 webencodings-0.5.1 widgetsnbextension-3.5.1 zipp-0.6.0\n"
     ]
    }
   ],
   "source": [
    "!pip install --upgrade azureml-sdk[notebooks] --user"
   ]
  },
  {
   "cell_type": "code",
   "execution_count": 1,
   "metadata": {},
   "outputs": [
    {
     "name": "stdout",
     "output_type": "stream",
     "text": [
      "Requirement already up-to-date: azureml-dataprep[fuse,pandas] in /home/cody/.local/lib/python3.7/site-packages (1.1.33)\n",
      "Requirement already satisfied, skipping upgrade: cloudpickle>=1.1.0 in /home/cody/.local/lib/python3.7/site-packages (from azureml-dataprep[fuse,pandas]) (1.2.1)\n",
      "Requirement already satisfied, skipping upgrade: dotnetcore2>=2.1.9 in /home/cody/miniconda3/lib/python3.7/site-packages (from azureml-dataprep[fuse,pandas]) (2.1.9)\n",
      "Requirement already satisfied, skipping upgrade: azureml-dataprep-native<14.0.0,>=13.1.0 in /home/cody/.local/lib/python3.7/site-packages (from azureml-dataprep[fuse,pandas]) (13.1.0)\n",
      "Requirement already satisfied, skipping upgrade: fusepy>=3.0.1; extra == \"fuse\" in /home/cody/miniconda3/lib/python3.7/site-packages (from azureml-dataprep[fuse,pandas]) (3.0.1)\n",
      "Requirement already satisfied, skipping upgrade: numpy>=1.11.3; extra == \"pandas\" in /home/cody/miniconda3/lib/python3.7/site-packages (from azureml-dataprep[fuse,pandas]) (1.16.2)\n",
      "Requirement already satisfied, skipping upgrade: pyarrow==0.11.*; extra == \"pandas\" in /home/cody/miniconda3/lib/python3.7/site-packages (from azureml-dataprep[fuse,pandas]) (0.11.1)\n",
      "Requirement already satisfied, skipping upgrade: pandas>=0.19.2; extra == \"pandas\" in /home/cody/miniconda3/lib/python3.7/site-packages (from azureml-dataprep[fuse,pandas]) (0.23.4)\n",
      "Requirement already satisfied, skipping upgrade: distro>=1.2.0 in /home/cody/.local/lib/python3.7/site-packages (from dotnetcore2>=2.1.9->azureml-dataprep[fuse,pandas]) (1.4.0)\n",
      "Requirement already satisfied, skipping upgrade: six>=1.0.0 in /home/cody/miniconda3/lib/python3.7/site-packages (from pyarrow==0.11.*; extra == \"pandas\"->azureml-dataprep[fuse,pandas]) (1.12.0)\n",
      "Requirement already satisfied, skipping upgrade: python-dateutil>=2.5.0 in /home/cody/miniconda3/lib/python3.7/site-packages (from pandas>=0.19.2; extra == \"pandas\"->azureml-dataprep[fuse,pandas]) (2.8.0)\n",
      "Requirement already satisfied, skipping upgrade: pytz>=2011k in /home/cody/.local/lib/python3.7/site-packages (from pandas>=0.19.2; extra == \"pandas\"->azureml-dataprep[fuse,pandas]) (2019.2)\n"
     ]
    }
   ],
   "source": [
    "!pip install --upgrade azureml-dataprep[fuse,pandas] --user --no-cache-dir"
   ]
  },
  {
   "cell_type": "code",
   "execution_count": 20,
   "metadata": {},
   "outputs": [
    {
     "data": {
      "text/plain": [
       "'1.0.79'"
      ]
     },
     "execution_count": 20,
     "metadata": {},
     "output_type": "execute_result"
    }
   ],
   "source": [
    "from azureml.core import VERSION\n",
    "VERSION"
   ]
  },
  {
   "cell_type": "code",
   "execution_count": 2,
   "metadata": {},
   "outputs": [
    {
     "data": {
      "text/plain": [
       "Workspace.create(name='benchy', subscription_id='6560575d-fa06-4e7d-95fb-f962e74efd7a', resource_group='copeters_benchmarking')"
      ]
     },
     "execution_count": 2,
     "metadata": {},
     "output_type": "execute_result"
    }
   ],
   "source": [
    "from azureml.core import Workspace\n",
    "\n",
    "ws = Workspace.from_config()\n",
    "ws"
   ]
  },
  {
   "cell_type": "code",
   "execution_count": null,
   "metadata": {},
   "outputs": [],
   "source": []
  }
 ],
 "metadata": {
  "kernelspec": {
   "display_name": "Python [conda env:benchy]",
   "language": "python",
   "name": "conda-env-benchy-py"
  },
  "language_info": {
   "codemirror_mode": {
    "name": "ipython",
    "version": 3
   },
   "file_extension": ".py",
   "mimetype": "text/x-python",
   "name": "python",
   "nbconvert_exporter": "python",
   "pygments_lexer": "ipython3",
   "version": "3.7.4"
  }
 },
 "nbformat": 4,
 "nbformat_minor": 4
}
