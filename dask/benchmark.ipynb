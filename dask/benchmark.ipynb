{
 "cells": [
  {
   "cell_type": "code",
   "execution_count": 1,
   "metadata": {},
   "outputs": [],
   "source": [
    "from azureml.core import Workspace, Experiment, Dataset\n",
    "from azureml.core.runconfig import RunConfiguration, MpiConfiguration\n",
    "from azureml.train.estimator import Estimator\n",
    "from azureml.core.compute import ComputeTarget, AmlCompute"
   ]
  },
  {
   "cell_type": "markdown",
   "metadata": {},
   "source": [
    "## Get workspace"
   ]
  },
  {
   "cell_type": "code",
   "execution_count": 2,
   "metadata": {},
   "outputs": [
    {
     "data": {
      "text/plain": [
       "Workspace.create(name='benchy', subscription_id='6560575d-fa06-4e7d-95fb-f962e74efd7a', resource_group='copeters_benchmarking')"
      ]
     },
     "execution_count": 2,
     "metadata": {},
     "output_type": "execute_result"
    }
   ],
   "source": [
    "ws = Workspace.from_config()\n",
    "ws"
   ]
  },
  {
   "cell_type": "markdown",
   "metadata": {},
   "source": [
    "## Setup dataset"
   ]
  },
  {
   "cell_type": "code",
   "execution_count": 3,
   "metadata": {},
   "outputs": [
    {
     "data": {
      "text/plain": [
       "{\n",
       "  \"source\": [\n",
       "    \"https://azureopendatastorage.blob.core.windows.net/isdweatherdatacontainer/ISDWeather/*/*/*.parquet\"\n",
       "  ],\n",
       "  \"definition\": [\n",
       "    \"GetFiles\"\n",
       "  ],\n",
       "  \"registration\": {\n",
       "    \"id\": \"5a3248d1-e0ee-49b1-8e2b-d5167afa0e6c\",\n",
       "    \"name\": \"weather-files\",\n",
       "    \"version\": 1,\n",
       "    \"workspace\": \"Workspace.create(name='benchy', subscription_id='6560575d-fa06-4e7d-95fb-f962e74efd7a', resource_group='copeters_benchmarking')\"\n",
       "  }\n",
       "}"
      ]
     },
     "execution_count": 3,
     "metadata": {},
     "output_type": "execute_result"
    }
   ],
   "source": [
    "if 'weather-files' not in ws.datasets:\n",
    "    ds = Dataset.File.from_files('https://azureopendatastorage.blob.core.windows.net/isdweatherdatacontainer/ISDWeather/*/*/*.parquet', validate=False)\n",
    "    ds = ds.register(ws, 'weather-files')\n",
    "else:\n",
    "    ds = ws.datasets['weather-files']\n",
    "    \n",
    "ds"
   ]
  },
  {
   "cell_type": "markdown",
   "metadata": {},
   "source": [
    "## Setup parameters "
   ]
  },
  {
   "cell_type": "code",
   "execution_count": 4,
   "metadata": {},
   "outputs": [],
   "source": [
    "# {compute_name: (vCPUs, RAM, DISK, $/hr)}\n",
    "\n",
    "MAX_VCPUS = 1000\n",
    "MIN_RAM   = 100\n",
    "MAX_RAM   = 1000\n",
    "\n",
    "computes = {\n",
    "    #'STANDARD_D12'    : (4,  28,  200,  .386),\n",
    "    'STANDARD_D12_V2' : (4,  28,  200,  .370),\n",
    "    #'STANDARD_D13'    : (8,  56,  400,  .771),\n",
    "    'STANDARD_D13_V2' : (8,  56,  400,  .741),\n",
    "    'STANDARD_DS12_V2': (4,  28,   56,  .370),\n",
    "    'STANDARD_DS13_V2': (8,  56,  112,  .741),\n",
    "    'STANDARD_DS15_V2': (20, 140, 280, 1.852),\n",
    "    'STANDARD_DS5_V2' : (16,  56, 112, 1.170),\n",
    "    #'STANDARD_F32S_V2': (32, 64,  256, 1.360)\n",
    "}"
   ]
  },
  {
   "cell_type": "code",
   "execution_count": 5,
   "metadata": {},
   "outputs": [],
   "source": [
    "vm_sizes = list(computes)\n",
    "nodeses  = list(reversed([1, 2, 5, 10, 20]))"
   ]
  },
  {
   "cell_type": "markdown",
   "metadata": {},
   "source": [
    "## Create clusters"
   ]
  },
  {
   "cell_type": "code",
   "execution_count": 6,
   "metadata": {},
   "outputs": [
    {
     "name": "stdout",
     "output_type": "stream",
     "text": [
      "D12-V2 already exists\n",
      "D13-V2 already exists\n",
      "DS12-V2 already exists\n",
      "DS13-V2 already exists\n",
      "DS15-V2 already exists\n",
      "DS5-V2 already exists\n"
     ]
    }
   ],
   "source": [
    "for vm_size in vm_sizes:\n",
    "    ct_name = vm_size.replace('STANDARD_', '').replace('_', '-')\n",
    "    if ct_name not in ws.compute_targets:\n",
    "        # create config for Azure ML cluster\n",
    "        # change properties as needed\n",
    "        # final default values for blog tbd - need to benchmark and minimize cost\n",
    "        config = AmlCompute.provisioning_configuration(\n",
    "                 vm_size                 = vm_size,\n",
    "                 max_nodes               = max(nodeses),\n",
    "                 vnet_resourcegroup_name = ws.resource_group,\n",
    "                 vnet_name               = 'bench-vnet',\n",
    "                 subnet_name             = 'default'\n",
    "        )\n",
    "\n",
    "        ct = ComputeTarget.create(ws, ct_name, config)\n",
    "        ct.wait_for_completion(show_output=True)    \n",
    "    else:\n",
    "        print(f'{ct_name} already exists')"
   ]
  },
  {
   "cell_type": "markdown",
   "metadata": {},
   "source": [
    "## Submit jobs"
   ]
  },
  {
   "cell_type": "code",
   "execution_count": 7,
   "metadata": {},
   "outputs": [
    {
     "name": "stdout",
     "output_type": "stream",
     "text": [
      "\n",
      "Nodes: 20\n",
      "\t| VM Size - STANDARD_D12_V2  | vCPUs - 80 | RAM - 560GB | WAGE - $7.4/hr |\n",
      "\t\tSubmitting run...\n",
      "\t\tRun submitted...\n",
      "\t| VM Size - STANDARD_DS12_V2 | vCPUs - 80 | RAM - 560GB | WAGE - $7.4/hr |\n",
      "\t\tSubmitting run...\n",
      "\t\tRun submitted...\n",
      "\n",
      "Nodes: 10\n",
      "\t| VM Size - STANDARD_D12_V2  | vCPUs - 40 | RAM - 280GB | WAGE - $3.7/hr |\n",
      "\t\tSubmitting run...\n",
      "\t\tRun submitted...\n",
      "\t| VM Size - STANDARD_D13_V2  | vCPUs - 80 | RAM - 560GB | WAGE - $7.41/hr |\n",
      "\t\tSubmitting run...\n",
      "\t\tRun submitted...\n",
      "\t| VM Size - STANDARD_DS12_V2 | vCPUs - 40 | RAM - 280GB | WAGE - $3.7/hr |\n",
      "\t\tSubmitting run...\n",
      "\t\tRun submitted...\n",
      "\t| VM Size - STANDARD_DS13_V2 | vCPUs - 80 | RAM - 560GB | WAGE - $7.41/hr |\n",
      "\t\tSubmitting run...\n",
      "\t\tRun submitted...\n",
      "\t| VM Size - STANDARD_DS5_V2  | vCPUs - 160 | RAM - 560GB | WAGE - $11.7/hr |\n",
      "\t\tSubmitting run...\n",
      "\t\tRun submitted...\n",
      "\n",
      "Nodes: 5\n",
      "\t| VM Size - STANDARD_D12_V2  | vCPUs - 20 | RAM - 140GB | WAGE - $1.85/hr |\n",
      "\t\tSubmitting run...\n",
      "\t\tRun submitted...\n",
      "\t| VM Size - STANDARD_D13_V2  | vCPUs - 40 | RAM - 280GB | WAGE - $3.705/hr |\n",
      "\t\tSubmitting run...\n",
      "\t\tRun submitted...\n",
      "\t| VM Size - STANDARD_DS12_V2 | vCPUs - 20 | RAM - 140GB | WAGE - $1.85/hr |\n",
      "\t\tSubmitting run...\n",
      "\t\tRun submitted...\n",
      "\t| VM Size - STANDARD_DS13_V2 | vCPUs - 40 | RAM - 280GB | WAGE - $3.705/hr |\n",
      "\t\tSubmitting run...\n",
      "\t\tRun submitted...\n",
      "\t| VM Size - STANDARD_DS15_V2 | vCPUs - 100 | RAM - 700GB | WAGE - $9.26/hr |\n",
      "\t\tSubmitting run...\n",
      "\t\tRun submitted...\n",
      "\t| VM Size - STANDARD_DS5_V2  | vCPUs - 80 | RAM - 280GB | WAGE - $5.85/hr |\n",
      "\t\tSubmitting run...\n",
      "\t\tRun submitted...\n",
      "\n",
      "Nodes: 2\n",
      "\t| VM Size - STANDARD_D13_V2  | vCPUs - 16 | RAM - 112GB | WAGE - $1.482/hr |\n",
      "\t\tSubmitting run...\n",
      "\t\tRun submitted...\n",
      "\t| VM Size - STANDARD_DS13_V2 | vCPUs - 16 | RAM - 112GB | WAGE - $1.482/hr |\n",
      "\t\tSubmitting run...\n",
      "\t\tRun submitted...\n",
      "\t| VM Size - STANDARD_DS15_V2 | vCPUs - 40 | RAM - 280GB | WAGE - $3.704/hr |\n",
      "\t\tSubmitting run...\n",
      "\t\tRun submitted...\n",
      "\t| VM Size - STANDARD_DS5_V2  | vCPUs - 32 | RAM - 112GB | WAGE - $2.34/hr |\n",
      "\t\tSubmitting run...\n",
      "\t\tRun submitted...\n",
      "\n",
      "Nodes: 1\n",
      "\t| VM Size - STANDARD_DS15_V2 | vCPUs - 20 | RAM - 140GB | WAGE - $1.852/hr |\n",
      "\t\tSubmitting run...\n",
      "\t\tRun submitted...\n"
     ]
    }
   ],
   "source": [
    "exp = Experiment(ws, 'describe')\n",
    "\n",
    "for nodes in nodeses:\n",
    "    print(f'\\nNodes: {nodes}')\n",
    "    for vm_size in vm_sizes:\n",
    "        ct_name = vm_size.replace('STANDARD_', '').replace('_', '-')\n",
    "        \n",
    "        vcpus, ram, disk, wage = [x*nodes for x in computes[vm_size]]\n",
    "        \n",
    "        if vcpus < MAX_VCPUS and ram > MIN_RAM and ram < MAX_RAM:\n",
    "            print(f'\\t| VM Size - {vm_size:16} | vCPUs - {vcpus} | RAM - {ram}GB | WAGE - ${round(wage, 3)}/hr |')\n",
    "            \n",
    "            est = Estimator('code', \n",
    "                            compute_target=ws.compute_targets[ct_name], \n",
    "                            entry_script='runDask.py', \n",
    "                            conda_dependencies_file='environment.yml', \n",
    "                            #script_params={'--datastore': ws.get_default_datastore()},\n",
    "                            inputs=[ds.as_named_input('weather').as_download('/tmp/noaa')],\n",
    "                            node_count=nodes,\n",
    "                            distributed_training=MpiConfiguration())\n",
    "            \n",
    "            print('\\t\\tSubmitting run...')\n",
    "            run = exp.submit(est)\n",
    "            run.log('nodes', nodes)\n",
    "            run.log('vm_size', vm_size)\n",
    "            run.log('vcpus', vcpus)\n",
    "            run.log('ram', ram)\n",
    "            run.log('disk', disk)\n",
    "            run.log('wage', wage)\n",
    "            print('\\t\\tRun submitted...')"
   ]
  },
  {
   "cell_type": "markdown",
   "metadata": {},
   "source": [
    "## Visualize data"
   ]
  },
  {
   "cell_type": "code",
   "execution_count": 6,
   "metadata": {},
   "outputs": [
    {
     "data": {
      "text/html": [
       "<table style=\"width:100%\"><tr><th>Name</th><th>Workspace</th><th>Report Page</th><th>Docs Page</th></tr><tr><td>describe</td><td>benchy</td><td><a href=\"https://ml.azure.com/experiments/describe?wsid=/subscriptions/6560575d-fa06-4e7d-95fb-f962e74efd7a/resourcegroups/copeters_benchmarking/workspaces/benchy\" target=\"_blank\" rel=\"noopener\">Link to Azure Machine Learning studio</a></td><td><a href=\"https://docs.microsoft.com/en-us/python/api/azureml-core/azureml.core.experiment.Experiment?view=azure-ml-py\" target=\"_blank\" rel=\"noopener\">Link to Documentation</a></td></tr></table>"
      ],
      "text/plain": [
       "Experiment(Name: describe,\n",
       "Workspace: benchy)"
      ]
     },
     "execution_count": 6,
     "metadata": {},
     "output_type": "execute_result"
    }
   ],
   "source": [
    "exp = Experiment(ws, 'describe')\n",
    "exp"
   ]
  },
  {
   "cell_type": "code",
   "execution_count": 15,
   "metadata": {},
   "outputs": [
    {
     "name": "stdout",
     "output_type": "stream",
     "text": [
      "describe_1576980205_e36001e3\n",
      "describe_1576979922_b2dd4f0a\n",
      "describe_1576980259_b3689bd0\n",
      "describe_1576980099_bd38c24f\n",
      "describe_1576980368_4a5c951c\n",
      "describe_1576980012_2fd2d782\n",
      "describe_1576980233_12d16c65\n",
      "describe_1576980152_554b09c7\n",
      "describe_1576979985_287f17a1\n",
      "describe_1576980313_1b85b1de\n",
      "describe_1576980391_238f6d7a\n",
      "describe_1576980340_2c65a67a\n",
      "describe_1576980067_15046e2c\n",
      "describe_1576979958_809cdeb8\n",
      "describe_1576980285_d6f380a2\n",
      "describe_1576980179_63ccf9b6\n",
      "describe_1576980125_ca10b665\n",
      "describe_1576980040_8a1a0f5b\n"
     ]
    }
   ],
   "source": [
    "data    = []\n",
    "    \n",
    "for run in list(exp.get_runs()):\n",
    "    runid   = run.id\n",
    "    print(runid)\n",
    "    metrics = run.get_metrics()\n",
    "    nodes   = metrics['nodes']\n",
    "    vm_size = metrics['vm_size']\n",
    "    vcpus   = metrics['vcpus']\n",
    "    wage    = metrics['wage']\n",
    "    ram     = metrics['ram']\n",
    "    disk    = metrics['disk']\n",
    "\n",
    "    if run.get_status() == 'Completed' and 'duration' in metrics and 'cost' not in metrics:\n",
    "        cost = metrics['duration']*wage/60/60\n",
    "        print(f'Total cost: ${cost}')\n",
    "        run.log('cost', f'${round(cost, 4)}')\n",
    "    \n",
    "    metrics = run.get_metrics()\n",
    "        \n",
    "    if run.get_status() == 'Completed' and 'cost' in metrics:\n",
    "        cost = metrics['cost']\n",
    "        duration = metrics['duration']\n",
    "        data.append([runid, nodes, vm_size, vcpus, wage, ram, disk, cost, duration])"
   ]
  },
  {
   "cell_type": "code",
   "execution_count": 16,
   "metadata": {
    "collapsed": true,
    "jupyter": {
     "outputs_hidden": true
    }
   },
   "outputs": [
    {
     "data": {
      "text/plain": [
       "[['describe_1576980205_e36001e3',\n",
       "  5,\n",
       "  'STANDARD_DS13_V2',\n",
       "  40,\n",
       "  3.705,\n",
       "  280,\n",
       "  560,\n",
       "  '$0.2967',\n",
       "  288.2893776893616],\n",
       " ['describe_1576980012_2fd2d782',\n",
       "  10,\n",
       "  'STANDARD_D13_V2',\n",
       "  80,\n",
       "  7.41,\n",
       "  560,\n",
       "  4000,\n",
       "  '$0.215',\n",
       "  104.43432354927063],\n",
       " ['describe_1576980233_12d16c65',\n",
       "  5,\n",
       "  'STANDARD_DS15_V2',\n",
       "  100,\n",
       "  9.26,\n",
       "  700,\n",
       "  1400,\n",
       "  '$1.003',\n",
       "  389.9453535079956],\n",
       " ['describe_1576979985_287f17a1',\n",
       "  10,\n",
       "  'STANDARD_D12_V2',\n",
       "  40,\n",
       "  3.7,\n",
       "  280,\n",
       "  2000,\n",
       "  '$0.6338',\n",
       "  616.6657111644745],\n",
       " ['describe_1576980313_1b85b1de',\n",
       "  2,\n",
       "  'STANDARD_DS13_V2',\n",
       "  16,\n",
       "  1.482,\n",
       "  112,\n",
       "  224,\n",
       "  '$0.2207',\n",
       "  536.1288964748383],\n",
       " ['describe_1576980391_238f6d7a',\n",
       "  1,\n",
       "  'STANDARD_DS15_V2',\n",
       "  20,\n",
       "  1.852,\n",
       "  140,\n",
       "  280,\n",
       "  '$0.6874',\n",
       "  1336.1754627227783],\n",
       " ['describe_1576980067_15046e2c',\n",
       "  10,\n",
       "  'STANDARD_DS13_V2',\n",
       "  80,\n",
       "  7.41,\n",
       "  560,\n",
       "  1120,\n",
       "  '$0.2531',\n",
       "  122.94134330749512],\n",
       " ['describe_1576980285_d6f380a2',\n",
       "  2,\n",
       "  'STANDARD_D13_V2',\n",
       "  16,\n",
       "  1.482,\n",
       "  112,\n",
       "  800,\n",
       "  '$0.4342',\n",
       "  1054.6599462032318]]"
      ]
     },
     "execution_count": 16,
     "metadata": {},
     "output_type": "execute_result"
    }
   ],
   "source": [
    "data"
   ]
  },
  {
   "cell_type": "code",
   "execution_count": 17,
   "metadata": {},
   "outputs": [],
   "source": [
    "import pandas as pd\n",
    "import matplotlib.pyplot as plt\n",
    "\n",
    "%matplotlib inline"
   ]
  },
  {
   "cell_type": "code",
   "execution_count": 32,
   "metadata": {},
   "outputs": [
    {
     "data": {
      "text/html": [
       "<div>\n",
       "<style scoped>\n",
       "    .dataframe tbody tr th:only-of-type {\n",
       "        vertical-align: middle;\n",
       "    }\n",
       "\n",
       "    .dataframe tbody tr th {\n",
       "        vertical-align: top;\n",
       "    }\n",
       "\n",
       "    .dataframe thead th {\n",
       "        text-align: right;\n",
       "    }\n",
       "</style>\n",
       "<table border=\"1\" class=\"dataframe\">\n",
       "  <thead>\n",
       "    <tr style=\"text-align: right;\">\n",
       "      <th></th>\n",
       "      <th>runid</th>\n",
       "      <th>nodes</th>\n",
       "      <th>vm_size</th>\n",
       "      <th>vcpus</th>\n",
       "      <th>wage</th>\n",
       "      <th>ram</th>\n",
       "      <th>disk</th>\n",
       "      <th>cost</th>\n",
       "      <th>duration</th>\n",
       "    </tr>\n",
       "  </thead>\n",
       "  <tbody>\n",
       "    <tr>\n",
       "      <th>0</th>\n",
       "      <td>describe_1576980205_e36001e3</td>\n",
       "      <td>5</td>\n",
       "      <td>STANDARD_DS13_V2</td>\n",
       "      <td>40</td>\n",
       "      <td>3.705</td>\n",
       "      <td>280</td>\n",
       "      <td>560</td>\n",
       "      <td>0.2967</td>\n",
       "      <td>288.289378</td>\n",
       "    </tr>\n",
       "    <tr>\n",
       "      <th>1</th>\n",
       "      <td>describe_1576980012_2fd2d782</td>\n",
       "      <td>10</td>\n",
       "      <td>STANDARD_D13_V2</td>\n",
       "      <td>80</td>\n",
       "      <td>7.410</td>\n",
       "      <td>560</td>\n",
       "      <td>4000</td>\n",
       "      <td>0.2150</td>\n",
       "      <td>104.434324</td>\n",
       "    </tr>\n",
       "    <tr>\n",
       "      <th>2</th>\n",
       "      <td>describe_1576980233_12d16c65</td>\n",
       "      <td>5</td>\n",
       "      <td>STANDARD_DS15_V2</td>\n",
       "      <td>100</td>\n",
       "      <td>9.260</td>\n",
       "      <td>700</td>\n",
       "      <td>1400</td>\n",
       "      <td>1.0030</td>\n",
       "      <td>389.945354</td>\n",
       "    </tr>\n",
       "    <tr>\n",
       "      <th>3</th>\n",
       "      <td>describe_1576979985_287f17a1</td>\n",
       "      <td>10</td>\n",
       "      <td>STANDARD_D12_V2</td>\n",
       "      <td>40</td>\n",
       "      <td>3.700</td>\n",
       "      <td>280</td>\n",
       "      <td>2000</td>\n",
       "      <td>0.6338</td>\n",
       "      <td>616.665711</td>\n",
       "    </tr>\n",
       "    <tr>\n",
       "      <th>4</th>\n",
       "      <td>describe_1576980313_1b85b1de</td>\n",
       "      <td>2</td>\n",
       "      <td>STANDARD_DS13_V2</td>\n",
       "      <td>16</td>\n",
       "      <td>1.482</td>\n",
       "      <td>112</td>\n",
       "      <td>224</td>\n",
       "      <td>0.2207</td>\n",
       "      <td>536.128896</td>\n",
       "    </tr>\n",
       "    <tr>\n",
       "      <th>5</th>\n",
       "      <td>describe_1576980391_238f6d7a</td>\n",
       "      <td>1</td>\n",
       "      <td>STANDARD_DS15_V2</td>\n",
       "      <td>20</td>\n",
       "      <td>1.852</td>\n",
       "      <td>140</td>\n",
       "      <td>280</td>\n",
       "      <td>0.6874</td>\n",
       "      <td>1336.175463</td>\n",
       "    </tr>\n",
       "    <tr>\n",
       "      <th>6</th>\n",
       "      <td>describe_1576980067_15046e2c</td>\n",
       "      <td>10</td>\n",
       "      <td>STANDARD_DS13_V2</td>\n",
       "      <td>80</td>\n",
       "      <td>7.410</td>\n",
       "      <td>560</td>\n",
       "      <td>1120</td>\n",
       "      <td>0.2531</td>\n",
       "      <td>122.941343</td>\n",
       "    </tr>\n",
       "    <tr>\n",
       "      <th>7</th>\n",
       "      <td>describe_1576980285_d6f380a2</td>\n",
       "      <td>2</td>\n",
       "      <td>STANDARD_D13_V2</td>\n",
       "      <td>16</td>\n",
       "      <td>1.482</td>\n",
       "      <td>112</td>\n",
       "      <td>800</td>\n",
       "      <td>0.4342</td>\n",
       "      <td>1054.659946</td>\n",
       "    </tr>\n",
       "  </tbody>\n",
       "</table>\n",
       "</div>"
      ],
      "text/plain": [
       "                          runid  nodes           vm_size  vcpus   wage  ram  \\\n",
       "0  describe_1576980205_e36001e3      5  STANDARD_DS13_V2     40  3.705  280   \n",
       "1  describe_1576980012_2fd2d782     10   STANDARD_D13_V2     80  7.410  560   \n",
       "2  describe_1576980233_12d16c65      5  STANDARD_DS15_V2    100  9.260  700   \n",
       "3  describe_1576979985_287f17a1     10   STANDARD_D12_V2     40  3.700  280   \n",
       "4  describe_1576980313_1b85b1de      2  STANDARD_DS13_V2     16  1.482  112   \n",
       "5  describe_1576980391_238f6d7a      1  STANDARD_DS15_V2     20  1.852  140   \n",
       "6  describe_1576980067_15046e2c     10  STANDARD_DS13_V2     80  7.410  560   \n",
       "7  describe_1576980285_d6f380a2      2   STANDARD_D13_V2     16  1.482  112   \n",
       "\n",
       "   disk    cost     duration  \n",
       "0   560  0.2967   288.289378  \n",
       "1  4000  0.2150   104.434324  \n",
       "2  1400  1.0030   389.945354  \n",
       "3  2000  0.6338   616.665711  \n",
       "4   224  0.2207   536.128896  \n",
       "5   280  0.6874  1336.175463  \n",
       "6  1120  0.2531   122.941343  \n",
       "7   800  0.4342  1054.659946  "
      ]
     },
     "execution_count": 32,
     "metadata": {},
     "output_type": "execute_result"
    }
   ],
   "source": [
    "headers = ['runid', 'nodes', 'vm_size', 'vcpus', 'wage', 'ram', 'disk', 'cost', 'duration']\n",
    "\n",
    "df = pd.DataFrame(data, columns=headers)\n",
    "df.cost = df.cost.str.replace('$', '')\n",
    "df.cost = df.cost.astype(float)\n",
    "df"
   ]
  },
  {
   "cell_type": "code",
   "execution_count": 39,
   "metadata": {},
   "outputs": [
    {
     "data": {
      "image/png": "[encoded data removed]",
      "text/plain": [
       "<Figure size 1152x576 with 1 Axes>"
      ]
     },
     "metadata": {
      "needs_background": "light"
     },
     "output_type": "display_data"
    }
   ],
   "source": [
    "plt.figure(figsize=(16, 8))\n",
    "plt.scatter(df.cost, df.vcpus, color='b', label='vcpus')#, labels=df.cost)\n",
    "plt.scatter(df.cost, df.ram, color='r', label='ram')\n",
    "plt.xlabel('cost ($) per task')\n",
    "plt.legend()\n",
    "plt.grid()"
   ]
  },
  {
   "cell_type": "code",
   "execution_count": 40,
   "metadata": {},
   "outputs": [
    {
     "data": {
      "image/png": "[encoded data removed]",
      "text/plain": [
       "<Figure size 1152x576 with 1 Axes>"
      ]
     },
     "metadata": {
      "needs_background": "light"
     },
     "output_type": "display_data"
    }
   ],
   "source": [
    "plt.figure(figsize=(16, 8))\n",
    "plt.scatter(df.duration, df.vcpus, color='b', label='vcpus')#, labels=df.cost)\n",
    "plt.scatter(df.duration, df.ram, color='r', label='ram')\n",
    "plt.xlabel('duration (s) per task')\n",
    "plt.legend()\n",
    "plt.grid()"
   ]
  },
  {
   "cell_type": "code",
   "execution_count": 44,
   "metadata": {},
   "outputs": [
    {
     "data": {
      "image/png": "[encoded data removed]",
      "text/plain": [
       "<Figure size 1152x576 with 1 Axes>"
      ]
     },
     "metadata": {
      "needs_background": "light"
     },
     "output_type": "display_data"
    }
   ],
   "source": [
    "plt.figure(figsize=(16, 8))\n",
    "\n",
    "for x in data:\n",
    "    vcpus, ram, cost, duration = (x[3], x[5], x[7], x[8])\n",
    "    plt.scatter(vcpus, ram, label=f'{cost} | {round(duration, 1)}')\n",
    "\n",
    "plt.xlabel('vcpus')\n",
    "plt.ylabel('ram')\n",
    "plt.legend()\n",
    "plt.grid()"
   ]
  },
  {
   "cell_type": "code",
   "execution_count": 54,
   "metadata": {},
   "outputs": [
    {
     "data": {
      "image/png": "[encoded data removed]",
      "text/plain": [
       "<Figure size 1152x576 with 1 Axes>"
      ]
     },
     "metadata": {
      "needs_background": "light"
     },
     "output_type": "display_data"
    }
   ],
   "source": [
    "plt.figure(figsize=(16, 8))\n",
    "\n",
    "for x in data:\n",
    "    vcpus, ram, cost, duration = (x[3], x[5], float(x[7].replace('$', '')), x[8])\n",
    "    plt.scatter(duration, cost, label=f'{vcpus} | {ram}GB')\n",
    "\n",
    "plt.xlabel('duration')\n",
    "plt.ylabel('cost')\n",
    "plt.legend()\n",
    "plt.grid()"
   ]
  },
  {
   "cell_type": "code",
   "execution_count": 55,
   "metadata": {},
   "outputs": [
    {
     "data": {
      "image/png": "[encoded data removed]",
      "text/plain": [
       "<Figure size 1152x576 with 1 Axes>"
      ]
     },
     "metadata": {
      "needs_background": "light"
     },
     "output_type": "display_data"
    }
   ],
   "source": [
    "plt.figure(figsize=(16, 8))\n",
    "\n",
    "for x in data:\n",
    "    vm_size, nodes, cost, duration = (x[2], x[1], float(x[7].replace('$', '')), x[8])\n",
    "    plt.scatter(duration, cost, label=f'{vm_size:20} | {nodes} nodes')\n",
    "\n",
    "plt.xlabel('duration')\n",
    "plt.ylabel('cost')\n",
    "plt.legend()\n",
    "plt.grid()"
   ]
  },
  {
   "cell_type": "code",
   "execution_count": 22,
   "metadata": {},
   "outputs": [
    {
     "name": "stdout",
     "output_type": "stream",
     "text": [
      "Help on function scatter in module matplotlib.pyplot:\n",
      "\n",
      "scatter(x, y, s=None, c=None, marker=None, cmap=None, norm=None, vmin=None, vmax=None, alpha=None, linewidths=None, verts=None, edgecolors=None, *, plotnonfinite=False, data=None, **kwargs)\n",
      "    A scatter plot of *y* vs *x* with varying marker size and/or color.\n",
      "    \n",
      "    Parameters\n",
      "    ----------\n",
      "    x, y : array_like, shape (n, )\n",
      "        The data positions.\n",
      "    \n",
      "    s : scalar or array_like, shape (n, ), optional\n",
      "        The marker size in points**2.\n",
      "        Default is ``rcParams['lines.markersize'] ** 2``.\n",
      "    \n",
      "    c : color, sequence, or sequence of color, optional\n",
      "        The marker color. Possible values:\n",
      "    \n",
      "        - A single color format string.\n",
      "        - A sequence of color specifications of length n.\n",
      "        - A sequence of n numbers to be mapped to colors using *cmap* and\n",
      "          *norm*.\n",
      "        - A 2-D array in which the rows are RGB or RGBA.\n",
      "    \n",
      "        Note that *c* should not be a single numeric RGB or RGBA sequence\n",
      "        because that is indistinguishable from an array of values to be\n",
      "        colormapped. If you want to specify the same RGB or RGBA value for\n",
      "        all points, use a 2-D array with a single row.  Otherwise, value-\n",
      "        matching will have precedence in case of a size matching with *x*\n",
      "        and *y*.\n",
      "    \n",
      "        Defaults to ``None``. In that case the marker color is determined\n",
      "        by the value of ``color``, ``facecolor`` or ``facecolors``. In case\n",
      "        those are not specified or ``None``, the marker color is determined\n",
      "        by the next color of the ``Axes``' current \"shape and fill\" color\n",
      "        cycle. This cycle defaults to :rc:`axes.prop_cycle`.\n",
      "    \n",
      "    marker : `~matplotlib.markers.MarkerStyle`, optional\n",
      "        The marker style. *marker* can be either an instance of the class\n",
      "        or the text shorthand for a particular marker.\n",
      "        Defaults to ``None``, in which case it takes the value of\n",
      "        :rc:`scatter.marker` = 'o'.\n",
      "        See `~matplotlib.markers` for more information about marker styles.\n",
      "    \n",
      "    cmap : `~matplotlib.colors.Colormap`, optional, default: None\n",
      "        A `.Colormap` instance or registered colormap name. *cmap* is only\n",
      "        used if *c* is an array of floats. If ``None``, defaults to rc\n",
      "        ``image.cmap``.\n",
      "    \n",
      "    norm : `~matplotlib.colors.Normalize`, optional, default: None\n",
      "        A `.Normalize` instance is used to scale luminance data to 0, 1.\n",
      "        *norm* is only used if *c* is an array of floats. If *None*, use\n",
      "        the default `.colors.Normalize`.\n",
      "    \n",
      "    vmin, vmax : scalar, optional, default: None\n",
      "        *vmin* and *vmax* are used in conjunction with *norm* to normalize\n",
      "        luminance data. If None, the respective min and max of the color\n",
      "        array is used. *vmin* and *vmax* are ignored if you pass a *norm*\n",
      "        instance.\n",
      "    \n",
      "    alpha : scalar, optional, default: None\n",
      "        The alpha blending value, between 0 (transparent) and 1 (opaque).\n",
      "    \n",
      "    linewidths : scalar or array_like, optional, default: None\n",
      "        The linewidth of the marker edges. Note: The default *edgecolors*\n",
      "        is 'face'. You may want to change this as well.\n",
      "        If *None*, defaults to rcParams ``lines.linewidth``.\n",
      "    \n",
      "    edgecolors : {'face', 'none', *None*} or color or sequence of color, optional.\n",
      "        The edge color of the marker. Possible values:\n",
      "    \n",
      "        - 'face': The edge color will always be the same as the face color.\n",
      "        - 'none': No patch boundary will be drawn.\n",
      "        - A Matplotlib color or sequence of color.\n",
      "    \n",
      "        Defaults to ``None``, in which case it takes the value of\n",
      "        :rc:`scatter.edgecolors` = 'face'.\n",
      "    \n",
      "        For non-filled markers, the *edgecolors* kwarg is ignored and\n",
      "        forced to 'face' internally.\n",
      "    \n",
      "    plotnonfinite : boolean, optional, default: False\n",
      "        Set to plot points with nonfinite *c*, in conjunction with\n",
      "        `~matplotlib.colors.Colormap.set_bad`.\n",
      "    \n",
      "    Returns\n",
      "    -------\n",
      "    paths : `~matplotlib.collections.PathCollection`\n",
      "    \n",
      "    Other Parameters\n",
      "    ----------------\n",
      "    **kwargs : `~matplotlib.collections.Collection` properties\n",
      "    \n",
      "    See Also\n",
      "    --------\n",
      "    plot : To plot scatter plots when markers are identical in size and\n",
      "        color.\n",
      "    \n",
      "    Notes\n",
      "    -----\n",
      "    \n",
      "    * The `.plot` function will be faster for scatterplots where markers\n",
      "      don't vary in size or color.\n",
      "    \n",
      "    * Any or all of *x*, *y*, *s*, and *c* may be masked arrays, in which\n",
      "      case all masks will be combined and only unmasked points will be\n",
      "      plotted.\n",
      "    \n",
      "    * Fundamentally, scatter works with 1-D arrays; *x*, *y*, *s*, and *c*\n",
      "      may be input as 2-D arrays, but within scatter they will be\n",
      "      flattened. The exception is *c*, which will be flattened only if its\n",
      "      size matches the size of *x* and *y*.\n",
      "    \n",
      "    .. note::\n",
      "        In addition to the above described arguments, this function can take a\n",
      "        **data** keyword argument. If such a **data** argument is given, the\n",
      "        following arguments are replaced by **data[<arg>]**:\n",
      "    \n",
      "        * All arguments with the following names: 'c', 'color', 'edgecolors', 'facecolor', 'facecolors', 'linewidths', 's', 'x', 'y'.\n",
      "    \n",
      "        Objects passed as **data** must support item access (``data[<arg>]``) and\n",
      "        membership test (``<arg> in data``).\n",
      "\n"
     ]
    }
   ],
   "source": [
    "help(plt.scatter)"
   ]
  },
  {
   "cell_type": "markdown",
   "metadata": {},
   "source": [
    "## Kill clusters"
   ]
  },
  {
   "cell_type": "code",
   "execution_count": null,
   "metadata": {},
   "outputs": [],
   "source": [
    "for ct in ws.compute_targets:\n",
    "    #ws.compute_targets[ct].delete()\n",
    "    pass\n",
    "\n",
    "ws.compute_targets"
   ]
  },
  {
   "cell_type": "markdown",
   "metadata": {},
   "source": [
    "## Cancel runs"
   ]
  },
  {
   "cell_type": "code",
   "execution_count": 23,
   "metadata": {},
   "outputs": [],
   "source": [
    "exp = Experiment(ws, 'describe')\n",
    "\n",
    "for run in exp.get_runs():\n",
    "    if run.get_status() == 'Running':\n",
    "        print(f'Cancelling {run.id}...')\n",
    "        run.cancel()"
   ]
  },
  {
   "cell_type": "code",
   "execution_count": null,
   "metadata": {},
   "outputs": [],
   "source": []
  }
 ],
 "metadata": {
  "kernelspec": {
   "display_name": "Python [conda env:aml] *",
   "language": "python",
   "name": "conda-env-aml-py"
  },
  "language_info": {
   "codemirror_mode": {
    "name": "ipython",
    "version": 3
   },
   "file_extension": ".py",
   "mimetype": "text/x-python",
   "name": "python",
   "nbconvert_exporter": "python",
   "pygments_lexer": "ipython3",
   "version": "3.7.4"
  }
 },
 "nbformat": 4,
 "nbformat_minor": 4
}
