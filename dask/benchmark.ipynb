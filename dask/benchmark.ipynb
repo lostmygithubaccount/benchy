{
 "cells": [
  {
   "cell_type": "code",
   "execution_count": 1,
   "metadata": {},
   "outputs": [],
   "source": [
    "from azureml.core import Workspace, Experiment, Dataset\n",
    "from azureml.core.runconfig import RunConfiguration, MpiConfiguration\n",
    "from azureml.train.estimator import Estimator\n",
    "from azureml.core.compute import ComputeTarget, AmlCompute"
   ]
  },
  {
   "cell_type": "markdown",
   "metadata": {},
   "source": [
    "## Get workspace"
   ]
  },
  {
   "cell_type": "code",
   "execution_count": 2,
   "metadata": {},
   "outputs": [
    {
     "data": {
      "text/plain": [
       "Workspace.create(name='benchy', subscription_id='6560575d-fa06-4e7d-95fb-f962e74efd7a', resource_group='copeters_benchmarking')"
      ]
     },
     "execution_count": 2,
     "metadata": {},
     "output_type": "execute_result"
    }
   ],
   "source": [
    "ws = Workspace.from_config()\n",
    "ws"
   ]
  },
  {
   "cell_type": "markdown",
   "metadata": {},
   "source": [
    "## Setup dataset"
   ]
  },
  {
   "cell_type": "code",
   "execution_count": 3,
   "metadata": {},
   "outputs": [
    {
     "data": {
      "text/plain": [
       "{\n",
       "  \"source\": [\n",
       "    \"https://azureopendatastorage.blob.core.windows.net/isdweatherdatacontainer/ISDWeather/*/*/*.parquet\"\n",
       "  ],\n",
       "  \"definition\": [\n",
       "    \"GetFiles\"\n",
       "  ],\n",
       "  \"registration\": {\n",
       "    \"id\": \"5a3248d1-e0ee-49b1-8e2b-d5167afa0e6c\",\n",
       "    \"name\": \"weather-files\",\n",
       "    \"version\": 1,\n",
       "    \"workspace\": \"Workspace.create(name='benchy', subscription_id='6560575d-fa06-4e7d-95fb-f962e74efd7a', resource_group='copeters_benchmarking')\"\n",
       "  }\n",
       "}"
      ]
     },
     "execution_count": 3,
     "metadata": {},
     "output_type": "execute_result"
    }
   ],
   "source": [
    "if 'weather-files' not in ws.datasets:\n",
    "    ds = Dataset.File.from_files('https://azureopendatastorage.blob.core.windows.net/isdweatherdatacontainer/ISDWeather/*/*/*.parquet', validate=False)\n",
    "    ds = ds.register(ws, 'weather-files')\n",
    "else:\n",
    "    ds = ws.datasets['weather-files']\n",
    "    \n",
    "ds"
   ]
  },
  {
   "cell_type": "markdown",
   "metadata": {},
   "source": [
    "## Setup parameters "
   ]
  },
  {
   "cell_type": "code",
   "execution_count": 23,
   "metadata": {},
   "outputs": [
    {
     "data": {
      "text/plain": [
       "{'STANDARD_D12': (4, 28, 200, 0.386),\n",
       " 'STANDARD_D12_V2': (4, 28, 200, 0.37),\n",
       " 'STANDARD_D13': (8, 56, 400, 0.771),\n",
       " 'STANDARD_D13_V2': (8, 56, 400, 0.741),\n",
       " 'STANDARD_DS12_V2': (4, 28, 56, 0.37),\n",
       " 'STANDARD_DS13_V2': (8, 56, 112, 0.741),\n",
       " 'STANDARD_DS15_V2': (20, 140, 280, 1.852),\n",
       " 'STANDARD_DS5_V2': (16, 56, 112, 1.17)}"
      ]
     },
     "execution_count": 23,
     "metadata": {},
     "output_type": "execute_result"
    }
   ],
   "source": [
    "# {compute_name: (vCPUs, RAM, DISK, $/hr)}\n",
    "\n",
    "MAX_VCPUS = 1000\n",
    "MIN_RAM   = 100\n",
    "MAX_RAM   = 1000\n",
    "\n",
    "computes = {\n",
    "    #'STANDARD_D12'    : (4,  28,  200,  .386),\n",
    "    'STANDARD_D12_V2' : (4,  28,  200,  .370),\n",
    "    #'STANDARD_D13'    : (8,  56,  400,  .771),\n",
    "    'STANDARD_D13_V2' : (8,  56,  400,  .741),\n",
    "    'STANDARD_DS12_V2': (4,  28,   56,  .370),\n",
    "    'STANDARD_DS13_V2': (8,  56,  112,  .741),\n",
    "    'STANDARD_DS15_V2': (20, 140, 280, 1.852),\n",
    "    'STANDARD_DS5_V2' : (16,  56, 112, 1.170),\n",
    "    #'STANDARD_F32S_V2': (32, 64,  256, 1.360)\n",
    "}\n",
    "\n",
    "computes"
   ]
  },
  {
   "cell_type": "code",
   "execution_count": 24,
   "metadata": {},
   "outputs": [],
   "source": [
    "vm_sizes = list(computes)\n",
    "nodeses  = list(reversed([1, 2, 3, 4, 5, 20]))"
   ]
  },
  {
   "cell_type": "markdown",
   "metadata": {},
   "source": [
    "## Create clusters"
   ]
  },
  {
   "cell_type": "code",
   "execution_count": 25,
   "metadata": {},
   "outputs": [
    {
     "name": "stdout",
     "output_type": "stream",
     "text": [
      "D12 already exists\n",
      "D12-V2 already exists\n",
      "D13 already exists\n",
      "D13-V2 already exists\n",
      "DS12-V2 already exists\n",
      "DS13-V2 already exists\n",
      "DS15-V2 already exists\n",
      "DS5-V2 already exists\n"
     ]
    },
    {
     "data": {
      "text/plain": [
       "{'D12': AmlCompute(workspace=Workspace.create(name='benchy', subscription_id='6560575d-fa06-4e7d-95fb-f962e74efd7a', resource_group='copeters_benchmarking'), name=D12, id=/subscriptions/6560575d-fa06-4e7d-95fb-f962e74efd7a/resourceGroups/copeters_benchmarking/providers/Microsoft.MachineLearningServices/workspaces/benchy/computes/D12, type=AmlCompute, provisioning_state=Succeeded, location=northcentralus, tags=None),\n",
       " 'D12-V2': AmlCompute(workspace=Workspace.create(name='benchy', subscription_id='6560575d-fa06-4e7d-95fb-f962e74efd7a', resource_group='copeters_benchmarking'), name=D12-V2, id=/subscriptions/6560575d-fa06-4e7d-95fb-f962e74efd7a/resourceGroups/copeters_benchmarking/providers/Microsoft.MachineLearningServices/workspaces/benchy/computes/D12-V2, type=AmlCompute, provisioning_state=Succeeded, location=northcentralus, tags=None),\n",
       " 'D13': AmlCompute(workspace=Workspace.create(name='benchy', subscription_id='6560575d-fa06-4e7d-95fb-f962e74efd7a', resource_group='copeters_benchmarking'), name=D13, id=/subscriptions/6560575d-fa06-4e7d-95fb-f962e74efd7a/resourceGroups/copeters_benchmarking/providers/Microsoft.MachineLearningServices/workspaces/benchy/computes/D13, type=AmlCompute, provisioning_state=Succeeded, location=northcentralus, tags=None),\n",
       " 'D13-V2': AmlCompute(workspace=Workspace.create(name='benchy', subscription_id='6560575d-fa06-4e7d-95fb-f962e74efd7a', resource_group='copeters_benchmarking'), name=D13-V2, id=/subscriptions/6560575d-fa06-4e7d-95fb-f962e74efd7a/resourceGroups/copeters_benchmarking/providers/Microsoft.MachineLearningServices/workspaces/benchy/computes/D13-V2, type=AmlCompute, provisioning_state=Succeeded, location=northcentralus, tags=None),\n",
       " 'DS12-V2': AmlCompute(workspace=Workspace.create(name='benchy', subscription_id='6560575d-fa06-4e7d-95fb-f962e74efd7a', resource_group='copeters_benchmarking'), name=DS12-V2, id=/subscriptions/6560575d-fa06-4e7d-95fb-f962e74efd7a/resourceGroups/copeters_benchmarking/providers/Microsoft.MachineLearningServices/workspaces/benchy/computes/DS12-V2, type=AmlCompute, provisioning_state=Succeeded, location=northcentralus, tags=None),\n",
       " 'DS13-V2': AmlCompute(workspace=Workspace.create(name='benchy', subscription_id='6560575d-fa06-4e7d-95fb-f962e74efd7a', resource_group='copeters_benchmarking'), name=DS13-V2, id=/subscriptions/6560575d-fa06-4e7d-95fb-f962e74efd7a/resourceGroups/copeters_benchmarking/providers/Microsoft.MachineLearningServices/workspaces/benchy/computes/DS13-V2, type=AmlCompute, provisioning_state=Succeeded, location=northcentralus, tags=None),\n",
       " 'DS15-V2': AmlCompute(workspace=Workspace.create(name='benchy', subscription_id='6560575d-fa06-4e7d-95fb-f962e74efd7a', resource_group='copeters_benchmarking'), name=DS15-V2, id=/subscriptions/6560575d-fa06-4e7d-95fb-f962e74efd7a/resourceGroups/copeters_benchmarking/providers/Microsoft.MachineLearningServices/workspaces/benchy/computes/DS15-V2, type=AmlCompute, provisioning_state=Succeeded, location=northcentralus, tags=None),\n",
       " 'DS5-V2': AmlCompute(workspace=Workspace.create(name='benchy', subscription_id='6560575d-fa06-4e7d-95fb-f962e74efd7a', resource_group='copeters_benchmarking'), name=DS5-V2, id=/subscriptions/6560575d-fa06-4e7d-95fb-f962e74efd7a/resourceGroups/copeters_benchmarking/providers/Microsoft.MachineLearningServices/workspaces/benchy/computes/DS5-V2, type=AmlCompute, provisioning_state=Succeeded, location=northcentralus, tags=None),\n",
       " 'F32S-V2': AmlCompute(workspace=Workspace.create(name='benchy', subscription_id='6560575d-fa06-4e7d-95fb-f962e74efd7a', resource_group='copeters_benchmarking'), name=F32S-V2, id=/subscriptions/6560575d-fa06-4e7d-95fb-f962e74efd7a/resourceGroups/copeters_benchmarking/providers/Microsoft.MachineLearningServices/workspaces/benchy/computes/F32S-V2, type=AmlCompute, provisioning_state=Succeeded, location=northcentralus, tags=None)}"
      ]
     },
     "execution_count": 25,
     "metadata": {},
     "output_type": "execute_result"
    }
   ],
   "source": [
    "for vm_size in vm_sizes:\n",
    "    ct_name = vm_size.replace('STANDARD_', '').replace('_', '-')\n",
    "    if ct_name not in ws.compute_targets:\n",
    "        # create config for Azure ML cluster\n",
    "        # change properties as needed\n",
    "        # final default values for blog tbd - need to benchmark and minimize cost\n",
    "        config = AmlCompute.provisioning_configuration(\n",
    "                 vm_size                 = vm_size,\n",
    "                 max_nodes               = max(nodeses),\n",
    "                 vnet_resourcegroup_name = ws.resource_group,\n",
    "                 vnet_name               = 'bench-vnet',\n",
    "                 subnet_name             = 'default'\n",
    "        )\n",
    "\n",
    "        ct = ComputeTarget.create(ws, ct_name, config)\n",
    "        ct.wait_for_completion(show_output=True)    \n",
    "    else:\n",
    "        print(f'{ct_name} already exists')\n",
    "\n",
    "ws.compute_targets"
   ]
  },
  {
   "cell_type": "markdown",
   "metadata": {},
   "source": [
    "## Submit jobs"
   ]
  },
  {
   "cell_type": "code",
   "execution_count": 26,
   "metadata": {},
   "outputs": [
    {
     "name": "stdout",
     "output_type": "stream",
     "text": [
      "\n",
      "Nodes: 20\n",
      "\tVM Size: STANDARD_D12     | vCPUs - 80 | RAM - 560GB | WAGE - $7.72/hr\n",
      "\t\tSubmitting run...\n",
      "\t\tRun submitted...\n",
      "\tVM Size: STANDARD_D12_V2  | vCPUs - 80 | RAM - 560GB | WAGE - $7.4/hr\n",
      "\t\tSubmitting run...\n",
      "\t\tRun submitted...\n",
      "\tVM Size: STANDARD_DS12_V2 | vCPUs - 80 | RAM - 560GB | WAGE - $7.4/hr\n",
      "\t\tSubmitting run...\n",
      "\t\tRun submitted...\n",
      "\n",
      "Nodes: 5\n",
      "\tVM Size: STANDARD_D12     | vCPUs - 20 | RAM - 140GB | WAGE - $1.93/hr\n",
      "\t\tSubmitting run...\n",
      "\t\tRun submitted...\n",
      "\tVM Size: STANDARD_D12_V2  | vCPUs - 20 | RAM - 140GB | WAGE - $1.85/hr\n",
      "\t\tSubmitting run...\n",
      "\t\tRun submitted...\n",
      "\tVM Size: STANDARD_D13     | vCPUs - 40 | RAM - 280GB | WAGE - $3.855/hr\n",
      "\t\tSubmitting run...\n",
      "\t\tRun submitted...\n",
      "\tVM Size: STANDARD_D13_V2  | vCPUs - 40 | RAM - 280GB | WAGE - $3.705/hr\n",
      "\t\tSubmitting run...\n",
      "\t\tRun submitted...\n",
      "\tVM Size: STANDARD_DS12_V2 | vCPUs - 20 | RAM - 140GB | WAGE - $1.85/hr\n",
      "\t\tSubmitting run...\n",
      "\t\tRun submitted...\n",
      "\tVM Size: STANDARD_DS13_V2 | vCPUs - 40 | RAM - 280GB | WAGE - $3.705/hr\n",
      "\t\tSubmitting run...\n",
      "\t\tRun submitted...\n",
      "\tVM Size: STANDARD_DS15_V2 | vCPUs - 100 | RAM - 700GB | WAGE - $9.26/hr\n",
      "\t\tSubmitting run...\n",
      "\t\tRun submitted...\n",
      "\tVM Size: STANDARD_DS5_V2  | vCPUs - 80 | RAM - 280GB | WAGE - $5.85/hr\n",
      "\t\tSubmitting run...\n",
      "\t\tRun submitted...\n",
      "\n",
      "Nodes: 4\n",
      "\tVM Size: STANDARD_D12     | vCPUs - 16 | RAM - 112GB | WAGE - $1.544/hr\n",
      "\t\tSubmitting run...\n",
      "\t\tRun submitted...\n",
      "\tVM Size: STANDARD_D12_V2  | vCPUs - 16 | RAM - 112GB | WAGE - $1.48/hr\n",
      "\t\tSubmitting run...\n",
      "\t\tRun submitted...\n",
      "\tVM Size: STANDARD_D13     | vCPUs - 32 | RAM - 224GB | WAGE - $3.084/hr\n",
      "\t\tSubmitting run...\n",
      "\t\tRun submitted...\n",
      "\tVM Size: STANDARD_D13_V2  | vCPUs - 32 | RAM - 224GB | WAGE - $2.964/hr\n",
      "\t\tSubmitting run...\n",
      "\t\tRun submitted...\n",
      "\tVM Size: STANDARD_DS12_V2 | vCPUs - 16 | RAM - 112GB | WAGE - $1.48/hr\n",
      "\t\tSubmitting run...\n",
      "\t\tRun submitted...\n",
      "\tVM Size: STANDARD_DS13_V2 | vCPUs - 32 | RAM - 224GB | WAGE - $2.964/hr\n",
      "\t\tSubmitting run...\n",
      "\t\tRun submitted...\n",
      "\tVM Size: STANDARD_DS15_V2 | vCPUs - 80 | RAM - 560GB | WAGE - $7.408/hr\n",
      "\t\tSubmitting run...\n",
      "\t\tRun submitted...\n",
      "\tVM Size: STANDARD_DS5_V2  | vCPUs - 64 | RAM - 224GB | WAGE - $4.68/hr\n",
      "\t\tSubmitting run...\n",
      "\t\tRun submitted...\n",
      "\n",
      "Nodes: 3\n",
      "\tVM Size: STANDARD_D13     | vCPUs - 24 | RAM - 168GB | WAGE - $2.313/hr\n",
      "\t\tSubmitting run...\n",
      "\t\tRun submitted...\n",
      "\tVM Size: STANDARD_D13_V2  | vCPUs - 24 | RAM - 168GB | WAGE - $2.223/hr\n",
      "\t\tSubmitting run...\n",
      "\t\tRun submitted...\n",
      "\tVM Size: STANDARD_DS13_V2 | vCPUs - 24 | RAM - 168GB | WAGE - $2.223/hr\n",
      "\t\tSubmitting run...\n",
      "\t\tRun submitted...\n",
      "\tVM Size: STANDARD_DS15_V2 | vCPUs - 60 | RAM - 420GB | WAGE - $5.556/hr\n",
      "\t\tSubmitting run...\n",
      "\t\tRun submitted...\n",
      "\tVM Size: STANDARD_DS5_V2  | vCPUs - 48 | RAM - 168GB | WAGE - $3.51/hr\n",
      "\t\tSubmitting run...\n",
      "\t\tRun submitted...\n",
      "\n",
      "Nodes: 2\n",
      "\tVM Size: STANDARD_D13     | vCPUs - 16 | RAM - 112GB | WAGE - $1.542/hr\n",
      "\t\tSubmitting run...\n",
      "\t\tRun submitted...\n",
      "\tVM Size: STANDARD_D13_V2  | vCPUs - 16 | RAM - 112GB | WAGE - $1.482/hr\n",
      "\t\tSubmitting run...\n",
      "\t\tRun submitted...\n",
      "\tVM Size: STANDARD_DS13_V2 | vCPUs - 16 | RAM - 112GB | WAGE - $1.482/hr\n",
      "\t\tSubmitting run...\n",
      "\t\tRun submitted...\n",
      "\tVM Size: STANDARD_DS15_V2 | vCPUs - 40 | RAM - 280GB | WAGE - $3.704/hr\n",
      "\t\tSubmitting run...\n",
      "\t\tRun submitted...\n",
      "\tVM Size: STANDARD_DS5_V2  | vCPUs - 32 | RAM - 112GB | WAGE - $2.34/hr\n",
      "\t\tSubmitting run...\n",
      "\t\tRun submitted...\n",
      "\n",
      "Nodes: 1\n",
      "\tVM Size: STANDARD_DS15_V2 | vCPUs - 20 | RAM - 140GB | WAGE - $1.852/hr\n",
      "\t\tSubmitting run...\n",
      "\t\tRun submitted...\n"
     ]
    }
   ],
   "source": [
    "exp = Experiment(ws, 'test4')\n",
    "\n",
    "for nodes in nodeses:\n",
    "    print(f'\\nNodes: {nodes}')\n",
    "    for vm_size in vm_sizes:\n",
    "        ct_name = vm_size.replace('STANDARD_', '').replace('_', '-')\n",
    "        \n",
    "        vcpus, ram, disk, wage = computes[vm_size]\n",
    "        \n",
    "        vcpus *= nodes\n",
    "        ram   *= nodes\n",
    "        disk  *= nodes\n",
    "        wage  *= nodes\n",
    "        \n",
    "        \n",
    "        if vcpus < MAX_VCPUS and ram > MIN_RAM and ram < MAX_RAM:\n",
    "            print(f'\\tVM Size: {vm_size:16} | vCPUs - {vcpus} | RAM - {ram}GB | WAGE - ${round(wage, 3)}/hr')\n",
    "            \n",
    "            est = Estimator('code', \n",
    "                            compute_target=ws.compute_targets[ct_name], \n",
    "                            entry_script='runDask.py', \n",
    "                            conda_dependencies_file='environment.yml', \n",
    "                            #script_params={'--datastore': ws.get_default_datastore()},\n",
    "                            inputs=[ds.as_named_input('weather').as_download('/tmp/noaa')],\n",
    "                            node_count=nodes,\n",
    "                            distributed_training=MpiConfiguration())\n",
    "            \n",
    "            print('\\t\\tSubmitting run...')\n",
    "            run = exp.submit(est)\n",
    "            \n",
    "            run.log('nodes', nodes)\n",
    "            run.log('vm_size', vm_size)\n",
    "            run.log('vcpus', vcpus)\n",
    "            run.log('ram', ram)\n",
    "            run.log('disk', disk)\n",
    "            run.log('wage', wage)\n",
    "            \n",
    "            print('\\t\\tRun submitted...')"
   ]
  },
  {
   "cell_type": "markdown",
   "metadata": {},
   "source": [
    "## Kill clusters"
   ]
  },
  {
   "cell_type": "code",
   "execution_count": null,
   "metadata": {},
   "outputs": [],
   "source": [
    "for ct in ws.compute_targets:\n",
    "    #ws.compute_targets[ct].delete()\n",
    "    pass\n",
    "\n",
    "ws.compute_targets"
   ]
  },
  {
   "cell_type": "markdown",
   "metadata": {},
   "source": [
    "## Visualize data"
   ]
  },
  {
   "cell_type": "code",
   "execution_count": null,
   "metadata": {},
   "outputs": [],
   "source": []
  },
  {
   "cell_type": "markdown",
   "metadata": {},
   "source": [
    "## Cancel runs"
   ]
  },
  {
   "cell_type": "code",
   "execution_count": null,
   "metadata": {},
   "outputs": [],
   "source": [
    "exp = Experiment(ws, 'test4')\n",
    "\n",
    "for run in exp.get_runs():\n",
    "    if run.get_status() == 'Running':\n",
    "        run.cancel()"
   ]
  },
  {
   "cell_type": "code",
   "execution_count": null,
   "metadata": {},
   "outputs": [],
   "source": []
  }
 ],
 "metadata": {
  "kernelspec": {
   "display_name": "Python [conda env:aml] *",
   "language": "python",
   "name": "conda-env-aml-py"
  },
  "language_info": {
   "codemirror_mode": {
    "name": "ipython",
    "version": 3
   },
   "file_extension": ".py",
   "mimetype": "text/x-python",
   "name": "python",
   "nbconvert_exporter": "python",
   "pygments_lexer": "ipython3",
   "version": "3.7.4"
  }
 },
 "nbformat": 4,
 "nbformat_minor": 4
}
